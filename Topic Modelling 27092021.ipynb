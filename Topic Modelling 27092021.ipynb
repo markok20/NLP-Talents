{
 "cells": [
  {
   "cell_type": "markdown",
   "id": "17087651",
   "metadata": {},
   "source": [
    "# Topic Modelling\n",
    "\n",
    "Topic modeling uses a set of rules to extract topics from a text. It does this by identifying keywords in each text in a corpus (large collection of texts). Documents that are shorter, such as tweets, tend to fare better from rules-based approaches.\n",
    "\n",
    "One of the most common ways to perform this task is via TF-IDF (term frequency-inverse document frequency). TF-IDF looks for a word's frequency in a single text, respective to that word's use across the corpus as a whole."
   ]
  },
  {
   "cell_type": "markdown",
   "id": "6a6a86ce",
   "metadata": {},
   "source": [
    "## Libraries"
   ]
  },
  {
   "cell_type": "code",
   "execution_count": 1,
   "id": "527b96da",
   "metadata": {},
   "outputs": [],
   "source": [
    "import re\n",
    "import pandas as pd\n",
    "import numpy as np\n",
    "import json\n",
    "import glob\n",
    "import matplotlib.pyplot as plt\n",
    "from string import punctuation\n",
    "%matplotlib inline\n",
    "\n",
    "#Gensim\n",
    "import gensim\n",
    "import gensim.corpora as corpora\n",
    "from gensim.utils import simple_preprocess\n",
    "from gensim.models import CoherenceModel\n",
    "\n",
    "#spacy\n",
    "import spacy\n",
    "from nltk.corpus import stopwords\n",
    "\n",
    "#vis\n",
    "import pyLDAvis\n",
    "import pyLDAvis.gensim_models\n",
    "\n",
    "import warnings\n",
    "warnings.filterwarnings(\"ignore\")"
   ]
  },
  {
   "cell_type": "markdown",
   "id": "71ec4056",
   "metadata": {},
   "source": [
    "## Data"
   ]
  },
  {
   "cell_type": "code",
   "execution_count": 2,
   "id": "db7ec7ca",
   "metadata": {},
   "outputs": [
    {
     "data": {
      "text/html": [
       "<div>\n",
       "<style scoped>\n",
       "    .dataframe tbody tr th:only-of-type {\n",
       "        vertical-align: middle;\n",
       "    }\n",
       "\n",
       "    .dataframe tbody tr th {\n",
       "        vertical-align: top;\n",
       "    }\n",
       "\n",
       "    .dataframe thead th {\n",
       "        text-align: right;\n",
       "    }\n",
       "</style>\n",
       "<table border=\"1\" class=\"dataframe\">\n",
       "  <thead>\n",
       "    <tr style=\"text-align: right;\">\n",
       "      <th></th>\n",
       "      <th>Unnamed: 0</th>\n",
       "      <th>Date</th>\n",
       "      <th>Tweet Text</th>\n",
       "      <th>Followers</th>\n",
       "      <th>Follows</th>\n",
       "      <th>Retweets</th>\n",
       "      <th>Favorites</th>\n",
       "      <th>Location</th>\n",
       "      <th>Airport_Twitter_Tag</th>\n",
       "      <th>Airport_IATA_Codes</th>\n",
       "      <th>Airport_Names</th>\n",
       "    </tr>\n",
       "  </thead>\n",
       "  <tbody>\n",
       "    <tr>\n",
       "      <th>0</th>\n",
       "      <td>15421</td>\n",
       "      <td>4/7/2017 7:52</td>\n",
       "      <td>Update: Flt EI7RE departed back to Dublin at 0...</td>\n",
       "      <td>20959.0</td>\n",
       "      <td>240.0</td>\n",
       "      <td>0.0</td>\n",
       "      <td>0.0</td>\n",
       "      <td>Belfast, Northern Ireland</td>\n",
       "      <td>@dublinairport</td>\n",
       "      <td>DUB</td>\n",
       "      <td>Dublin Airport</td>\n",
       "    </tr>\n",
       "    <tr>\n",
       "      <th>1</th>\n",
       "      <td>25645</td>\n",
       "      <td>12/3/2018 14:06</td>\n",
       "      <td>@DublinAirport Ah lads come on, rally the troo...</td>\n",
       "      <td>1433.0</td>\n",
       "      <td>637.0</td>\n",
       "      <td>0.0</td>\n",
       "      <td>0.0</td>\n",
       "      <td>Dublin, Ireland</td>\n",
       "      <td>@dublinairport</td>\n",
       "      <td>DUB</td>\n",
       "      <td>Dublin Airport</td>\n",
       "    </tr>\n",
       "    <tr>\n",
       "      <th>2</th>\n",
       "      <td>88734</td>\n",
       "      <td>12/24/2020 19:34:34</td>\n",
       "      <td>@DublinAirport https://t.co/8XPuZnW0P9</td>\n",
       "      <td>27616.0</td>\n",
       "      <td>868.0</td>\n",
       "      <td>0.0</td>\n",
       "      <td>0.0</td>\n",
       "      <td>Halifax, NS</td>\n",
       "      <td>@dublinairport</td>\n",
       "      <td>DUB</td>\n",
       "      <td>Dublin Airport</td>\n",
       "    </tr>\n",
       "    <tr>\n",
       "      <th>3</th>\n",
       "      <td>181260</td>\n",
       "      <td>6/12/2020 0:33:26</td>\n",
       "      <td>@brskyrme @VirginAtlantic @HeathrowAirport @br...</td>\n",
       "      <td>51130.0</td>\n",
       "      <td>3181.0</td>\n",
       "      <td>0.0</td>\n",
       "      <td>0.0</td>\n",
       "      <td>San Francisco Int'l Airport</td>\n",
       "      <td>@heathrowairport</td>\n",
       "      <td>LHR</td>\n",
       "      <td>Heathrow Airport</td>\n",
       "    </tr>\n",
       "    <tr>\n",
       "      <th>4</th>\n",
       "      <td>262833</td>\n",
       "      <td>8/29/2020 0:36:32</td>\n",
       "      <td>@JetSetGOConnor @flykkylie @HeathrowAirport @S...</td>\n",
       "      <td>27451.0</td>\n",
       "      <td>452.0</td>\n",
       "      <td>0.0</td>\n",
       "      <td>2.0</td>\n",
       "      <td>Washington, DC</td>\n",
       "      <td>@heathrowairport</td>\n",
       "      <td>LHR</td>\n",
       "      <td>Heathrow Airport</td>\n",
       "    </tr>\n",
       "    <tr>\n",
       "      <th>...</th>\n",
       "      <td>...</td>\n",
       "      <td>...</td>\n",
       "      <td>...</td>\n",
       "      <td>...</td>\n",
       "      <td>...</td>\n",
       "      <td>...</td>\n",
       "      <td>...</td>\n",
       "      <td>...</td>\n",
       "      <td>...</td>\n",
       "      <td>...</td>\n",
       "      <td>...</td>\n",
       "    </tr>\n",
       "    <tr>\n",
       "      <th>273183</th>\n",
       "      <td>868309</td>\n",
       "      <td>3/23/2021 21:21:43</td>\n",
       "      <td>@STN_Airport Thank you ??</td>\n",
       "      <td>11378.0</td>\n",
       "      <td>1057.0</td>\n",
       "      <td>0.0</td>\n",
       "      <td>0.0</td>\n",
       "      <td>Manchester, England</td>\n",
       "      <td>@stn_airport</td>\n",
       "      <td>STN</td>\n",
       "      <td>London Stansted Airpor</td>\n",
       "    </tr>\n",
       "    <tr>\n",
       "      <th>273184</th>\n",
       "      <td>868344</td>\n",
       "      <td>3/24/2021 13:56:49</td>\n",
       "      <td>@STN_Airport Good morning stansted airport ????</td>\n",
       "      <td>95.0</td>\n",
       "      <td>958.0</td>\n",
       "      <td>0.0</td>\n",
       "      <td>0.0</td>\n",
       "      <td>NaN</td>\n",
       "      <td>@stn_airport</td>\n",
       "      <td>STN</td>\n",
       "      <td>London Stansted Airpor</td>\n",
       "    </tr>\n",
       "    <tr>\n",
       "      <th>273185</th>\n",
       "      <td>868346</td>\n",
       "      <td>3/24/2021 15:03:10</td>\n",
       "      <td>@STN_Airport OMG ...... if only you knew how m...</td>\n",
       "      <td>95.0</td>\n",
       "      <td>958.0</td>\n",
       "      <td>0.0</td>\n",
       "      <td>1.0</td>\n",
       "      <td>NaN</td>\n",
       "      <td>@stn_airport</td>\n",
       "      <td>STN</td>\n",
       "      <td>London Stansted Airpor</td>\n",
       "    </tr>\n",
       "    <tr>\n",
       "      <th>273186</th>\n",
       "      <td>868347</td>\n",
       "      <td>3/24/2021 15:06:29</td>\n",
       "      <td>@STN_Airport @KevinS22551757 Spain is in my bl...</td>\n",
       "      <td>95.0</td>\n",
       "      <td>958.0</td>\n",
       "      <td>0.0</td>\n",
       "      <td>1.0</td>\n",
       "      <td>NaN</td>\n",
       "      <td>@stn_airport</td>\n",
       "      <td>STN</td>\n",
       "      <td>London Stansted Airpor</td>\n",
       "    </tr>\n",
       "    <tr>\n",
       "      <th>273187</th>\n",
       "      <td>868350</td>\n",
       "      <td>3/24/2021 15:59:14</td>\n",
       "      <td>@STN_Airport Thanks @STN_Airport for your quic...</td>\n",
       "      <td>0.0</td>\n",
       "      <td>31.0</td>\n",
       "      <td>0.0</td>\n",
       "      <td>0.0</td>\n",
       "      <td>NaN</td>\n",
       "      <td>@stn_airport</td>\n",
       "      <td>STN, STN</td>\n",
       "      <td>London Stansted Airpor, London Stansted Airpor</td>\n",
       "    </tr>\n",
       "  </tbody>\n",
       "</table>\n",
       "<p>273188 rows × 11 columns</p>\n",
       "</div>"
      ],
      "text/plain": [
       "        Unnamed: 0                 Date  \\\n",
       "0            15421        4/7/2017 7:52   \n",
       "1            25645      12/3/2018 14:06   \n",
       "2            88734  12/24/2020 19:34:34   \n",
       "3           181260    6/12/2020 0:33:26   \n",
       "4           262833    8/29/2020 0:36:32   \n",
       "...            ...                  ...   \n",
       "273183      868309   3/23/2021 21:21:43   \n",
       "273184      868344   3/24/2021 13:56:49   \n",
       "273185      868346   3/24/2021 15:03:10   \n",
       "273186      868347   3/24/2021 15:06:29   \n",
       "273187      868350   3/24/2021 15:59:14   \n",
       "\n",
       "                                               Tweet Text  Followers  Follows  \\\n",
       "0       Update: Flt EI7RE departed back to Dublin at 0...    20959.0    240.0   \n",
       "1       @DublinAirport Ah lads come on, rally the troo...     1433.0    637.0   \n",
       "2                  @DublinAirport https://t.co/8XPuZnW0P9    27616.0    868.0   \n",
       "3       @brskyrme @VirginAtlantic @HeathrowAirport @br...    51130.0   3181.0   \n",
       "4       @JetSetGOConnor @flykkylie @HeathrowAirport @S...    27451.0    452.0   \n",
       "...                                                   ...        ...      ...   \n",
       "273183                          @STN_Airport Thank you ??    11378.0   1057.0   \n",
       "273184    @STN_Airport Good morning stansted airport ????       95.0    958.0   \n",
       "273185  @STN_Airport OMG ...... if only you knew how m...       95.0    958.0   \n",
       "273186  @STN_Airport @KevinS22551757 Spain is in my bl...       95.0    958.0   \n",
       "273187  @STN_Airport Thanks @STN_Airport for your quic...        0.0     31.0   \n",
       "\n",
       "        Retweets  Favorites                     Location Airport_Twitter_Tag  \\\n",
       "0            0.0        0.0    Belfast, Northern Ireland      @dublinairport   \n",
       "1            0.0        0.0              Dublin, Ireland      @dublinairport   \n",
       "2            0.0        0.0                  Halifax, NS      @dublinairport   \n",
       "3            0.0        0.0  San Francisco Int'l Airport    @heathrowairport   \n",
       "4            0.0        2.0               Washington, DC    @heathrowairport   \n",
       "...          ...        ...                          ...                 ...   \n",
       "273183       0.0        0.0          Manchester, England        @stn_airport   \n",
       "273184       0.0        0.0                          NaN        @stn_airport   \n",
       "273185       0.0        1.0                          NaN        @stn_airport   \n",
       "273186       0.0        1.0                          NaN        @stn_airport   \n",
       "273187       0.0        0.0                          NaN        @stn_airport   \n",
       "\n",
       "       Airport_IATA_Codes                                   Airport_Names  \n",
       "0                     DUB                                  Dublin Airport  \n",
       "1                     DUB                                  Dublin Airport  \n",
       "2                     DUB                                  Dublin Airport  \n",
       "3                     LHR                                Heathrow Airport  \n",
       "4                     LHR                                Heathrow Airport  \n",
       "...                   ...                                             ...  \n",
       "273183                STN                          London Stansted Airpor  \n",
       "273184                STN                          London Stansted Airpor  \n",
       "273185                STN                          London Stansted Airpor  \n",
       "273186                STN                          London Stansted Airpor  \n",
       "273187           STN, STN  London Stansted Airpor, London Stansted Airpor  \n",
       "\n",
       "[273188 rows x 11 columns]"
      ]
     },
     "execution_count": 2,
     "metadata": {},
     "output_type": "execute_result"
    }
   ],
   "source": [
    "#read dataset\n",
    "df = pd.read_csv(\"newdata.csv\")\n",
    "df"
   ]
  },
  {
   "cell_type": "markdown",
   "id": "99bcadf8",
   "metadata": {},
   "source": [
    "##  Data Preprocessing "
   ]
  },
  {
   "cell_type": "code",
   "execution_count": 3,
   "id": "96c027fe",
   "metadata": {},
   "outputs": [
    {
     "name": "stdout",
     "output_type": "stream",
     "text": [
      "['update', 'flt', 'ei', 're', 'departed', 'back', 'dublin', 'but', 'flt', 'ei', 'offloading', 'passengers', 'here', 'for', 'transfer', 'via', 'coach']\n"
     ]
    }
   ],
   "source": [
    "def sent_to_words(sentences):\n",
    "    for tweet in sentences:\n",
    "        tweet = re.sub('\\S*@\\S*\\s?', '', tweet)  # remove emails\n",
    "        tweet = re.sub('\\s+', ' ', tweet)  # remove newline chars\n",
    "        tweet = re.sub(\"\\'\", \"\", tweet)  # remove single quotes\n",
    "        # Remove HTML special entities (e.g. &amp;)\n",
    "        tweet = re.sub(r'\\&\\w*;', '', tweet)\n",
    "        #Convert @username to AT_USER\n",
    "        tweet = re.sub('@[^\\s]+','',tweet)\n",
    "        # Remove tickers\n",
    "        tweet = re.sub(r'\\$\\w*', '', tweet)\n",
    "        # To lowercase\n",
    "        tweet =  tweet.lower()\n",
    "        # Remove hyperlinks\n",
    "        tweet = re.sub(r'https?:\\/\\/.*\\/\\w*', '', tweet)\n",
    "        # Remove hashtags\n",
    "        tweet = re.sub(r'#\\w*', '', tweet)\n",
    "        # Remove Punctuation and split 's, 't, 've with a space for filter\n",
    "        tweet = re.sub(r'[' + punctuation.replace('@', '') + ']+', ' ', tweet)\n",
    "        # Remove words with 2 or fewer letters\n",
    "        tweet = re.sub(r'\\b\\w{1,2}\\b', '', tweet)\n",
    "        # Remove whitespace (including new line characters)\n",
    "        tweet = re.sub(r'\\s\\s+', ' ', tweet)\n",
    "        # Remove single space remaining at the front of the tweet.\n",
    "        tweet = tweet.lstrip(' ') \n",
    "        # Remove characters beyond Basic Multilingual Plane (BMP) of Unicode:\n",
    "        tweet = ''.join(c for c in tweet if c <= '\\uFFFF')\n",
    "        tweet = gensim.utils.simple_preprocess(str(tweet), deacc=True) \n",
    "        yield(tweet)  \n",
    "\n",
    "# Convert to list\n",
    "data = df[\"Tweet Text\"].values.tolist()\n",
    "data_words = list(sent_to_words(data))\n",
    "print(data_words[0])"
   ]
  },
  {
   "cell_type": "markdown",
   "id": "51a92474",
   "metadata": {},
   "source": [
    "**Remove Stopwords and Lemmatize tokens**"
   ]
  },
  {
   "cell_type": "code",
   "execution_count": 4,
   "id": "f2e15dfe",
   "metadata": {},
   "outputs": [
    {
     "name": "stdout",
     "output_type": "stream",
     "text": [
      "['i', 'me', 'my', 'myself', 'we', 'our', 'ours', 'ourselves', 'you', \"you're\", \"you've\", \"you'll\", \"you'd\", 'your', 'yours', 'yourself', 'yourselves', 'he', 'him', 'his', 'himself', 'she', \"she's\", 'her', 'hers', 'herself', 'it', \"it's\", 'its', 'itself', 'they', 'them', 'their', 'theirs', 'themselves', 'what', 'which', 'who', 'whom', 'this', 'that', \"that'll\", 'these', 'those', 'am', 'is', 'are', 'was', 'were', 'be', 'been', 'being', 'have', 'has', 'had', 'having', 'do', 'does', 'did', 'doing', 'a', 'an', 'the', 'and', 'but', 'if', 'or', 'because', 'as', 'until', 'while', 'of', 'at', 'by', 'for', 'with', 'about', 'against', 'between', 'into', 'through', 'during', 'before', 'after', 'above', 'below', 'to', 'from', 'up', 'down', 'in', 'out', 'on', 'off', 'over', 'under', 'again', 'further', 'then', 'once', 'here', 'there', 'when', 'where', 'why', 'how', 'all', 'any', 'both', 'each', 'few', 'more', 'most', 'other', 'some', 'such', 'no', 'nor', 'not', 'only', 'own', 'same', 'so', 'than', 'too', 'very', 's', 't', 'can', 'will', 'just', 'don', \"don't\", 'should', \"should've\", 'now', 'd', 'll', 'm', 'o', 're', 've', 'y', 'ain', 'aren', \"aren't\", 'couldn', \"couldn't\", 'didn', \"didn't\", 'doesn', \"doesn't\", 'hadn', \"hadn't\", 'hasn', \"hasn't\", 'haven', \"haven't\", 'isn', \"isn't\", 'ma', 'mightn', \"mightn't\", 'mustn', \"mustn't\", 'needn', \"needn't\", 'shan', \"shan't\", 'shouldn', \"shouldn't\", 'wasn', \"wasn't\", 'weren', \"weren't\", 'won', \"won't\", 'wouldn', \"wouldn't\"]\n"
     ]
    }
   ],
   "source": [
    "stop_words = stopwords.words(\"english\")\n",
    "\n",
    "print(stop_words)"
   ]
  },
  {
   "cell_type": "code",
   "execution_count": 5,
   "id": "9863feb0",
   "metadata": {},
   "outputs": [],
   "source": [
    "def remove_stopwords(texts):\n",
    "    return [[word for word in simple_preprocess(str(doc)) if word not in stop_words] for doc in texts]\n",
    "\n",
    "data_words_nostops = remove_stopwords(data_words)"
   ]
  },
  {
   "cell_type": "code",
   "execution_count": 6,
   "id": "97a65add",
   "metadata": {},
   "outputs": [
    {
     "name": "stdout",
     "output_type": "stream",
     "text": [
      "['update', 'passenger', 'coach']\n"
     ]
    }
   ],
   "source": [
    "nlp = spacy.load(\"en_core_web_sm\", disable=[\"parser\", \"ner\"])\n",
    "\n",
    "def lemmatization(texts, allowed_postags=[\"NOUN\"]):\n",
    "    texts_out = []\n",
    "    for text in texts:\n",
    "        doc = nlp(\" \".join(text))\n",
    "        texts_out.append([token.lemma_ for token in doc if token.pos_ in allowed_postags])\n",
    "    return texts_out\n",
    "\n",
    "lemmatized_texts = lemmatization(data_words_nostops)\n",
    "print(lemmatized_texts[0])"
   ]
  },
  {
   "cell_type": "markdown",
   "id": "1e287ebd",
   "metadata": {},
   "source": [
    "## LDA model- Latent Dirichlet Allocation"
   ]
  },
  {
   "cell_type": "code",
   "execution_count": 7,
   "id": "6703a6cd",
   "metadata": {},
   "outputs": [],
   "source": [
    "#Create Dictionary\n",
    "id2word = corpora.Dictionary(lemmatized_texts)\n",
    "\n",
    "# Create Corpus: Term Document Frequency\n",
    "corpus = [id2word.doc2bow(text) for text in lemmatized_texts]"
   ]
  },
  {
   "cell_type": "code",
   "execution_count": 8,
   "id": "509e59f1",
   "metadata": {},
   "outputs": [],
   "source": [
    "lda_model = gensim.models.ldamodel.LdaModel(corpus=corpus,\n",
    "                                           id2word=id2word,\n",
    "                                           num_topics=4,\n",
    "                                           random_state=100,\n",
    "                                           update_every=1,\n",
    "                                           chunksize=1000,\n",
    "                                           passes=10,\n",
    "                                           alpha = 'symmetric',\n",
    "                                           per_word_topics=True)"
   ]
  },
  {
   "cell_type": "code",
   "execution_count": 9,
   "id": "2bae2b70",
   "metadata": {},
   "outputs": [
    {
     "name": "stdout",
     "output_type": "stream",
     "text": [
      "[(0, '0.082*\"thank\" + 0.044*\"people\" + 0.042*\"parking\" + 0.032*\"car\" + 0.024*\"service\" + 0.022*\"park\" + 0.020*\"airport\" + 0.019*\"customer\" + 0.017*\"website\" + 0.016*\"passenger\"'), (1, '0.074*\"time\" + 0.041*\"security\" + 0.022*\"luggage\" + 0.018*\"arrival\" + 0.016*\"gate\" + 0.016*\"control\" + 0.016*\"passport\" + 0.014*\"airport\" + 0.013*\"letter\" + 0.013*\"queue\"'), (2, '0.115*\"flight\" + 0.051*\"plane\" + 0.049*\"hour\" + 0.036*\"family\" + 0.025*\"bag\" + 0.022*\"baggage\" + 0.021*\"birthday\" + 0.021*\"minute\" + 0.017*\"test\" + 0.017*\"travel\"'), (3, '0.048*\"year\" + 0.041*\"day\" + 0.041*\"morning\" + 0.033*\"airport\" + 0.033*\"love\" + 0.032*\"home\" + 0.031*\"staff\" + 0.030*\"today\" + 0.027*\"week\" + 0.018*\"guy\"')]\n"
     ]
    }
   ],
   "source": [
    "print(lda_model.print_topics())"
   ]
  },
  {
   "cell_type": "markdown",
   "id": "2c830968",
   "metadata": {},
   "source": [
    "## Topic Coherence "
   ]
  },
  {
   "cell_type": "code",
   "execution_count": 10,
   "id": "2598398f",
   "metadata": {},
   "outputs": [
    {
     "name": "stdout",
     "output_type": "stream",
     "text": [
      "Coherence Score: 0.38435156845771223\n"
     ]
    }
   ],
   "source": [
    "lda_coherence_model = CoherenceModel(model= lda_model, texts = lemmatized_texts, dictionary = id2word,\n",
    "                                    coherence='c_v')\n",
    "coherence_lda = lda_coherence_model.get_coherence()\n",
    "\n",
    "print(\"Coherence Score:\", coherence_lda)"
   ]
  },
  {
   "cell_type": "markdown",
   "id": "13947693",
   "metadata": {},
   "source": [
    "## Improve topic coherence"
   ]
  },
  {
   "cell_type": "code",
   "execution_count": 11,
   "id": "d8aea278",
   "metadata": {},
   "outputs": [],
   "source": [
    "def opt_coherence(dictionary, corpus, texts, limit, start=1, step=1):\n",
    "    \n",
    "    coherence_values=[]\n",
    "    model_list = []\n",
    "    for topics in range(start,limit,step):\n",
    "        model = gensim.models.ldamodel.LdaModel(corpus=corpus, num_topics = topics, random_state=100,\n",
    "                                               chunksize=1000, passes = 10, per_word_topics=True, id2word=id2word, alpha = 'symmetric')\n",
    "        model_list.append(model)\n",
    "        coherence_model = CoherenceModel(model=model, texts=lemmatized_texts, dictionary=dictionary, coherence='c_v')\n",
    "        coherence_values.append(coherence_model.get_coherence())\n",
    "        \n",
    "    return model_list, coherence_values\n",
    "\n",
    "model_list, coherence_values = opt_coherence(dictionary = id2word, corpus=corpus, texts =lemmatized_texts, limit=11,start=1,step=1)"
   ]
  },
  {
   "cell_type": "code",
   "execution_count": 12,
   "id": "ad383a00",
   "metadata": {},
   "outputs": [
    {
     "data": {
      "text/plain": [
       "<function matplotlib.pyplot.show(close=None, block=None)>"
      ]
     },
     "execution_count": 12,
     "metadata": {},
     "output_type": "execute_result"
    },
    {
     "data": {
      "image/png": "[encoded data removed]",
      "text/plain": [
       "<Figure size 432x288 with 1 Axes>"
      ]
     },
     "metadata": {
      "needs_background": "light"
     },
     "output_type": "display_data"
    }
   ],
   "source": [
    "x = range(1,11,1)\n",
    "plt.plot(x,coherence_values)\n",
    "plt.xlabel(\"Number of Topics\")\n",
    "plt.ylabel(\"Coherence Score\")\n",
    "plt.show"
   ]
  },
  {
   "cell_type": "code",
   "execution_count": 13,
   "id": "e3a42fc8",
   "metadata": {},
   "outputs": [
    {
     "name": "stdout",
     "output_type": "stream",
     "text": [
      "Number of topics = 1  has Coherence value of 0.3375\n",
      "Number of topics = 2  has Coherence value of 0.2331\n",
      "Number of topics = 3  has Coherence value of 0.3064\n",
      "Number of topics = 4  has Coherence value of 0.3844\n",
      "Number of topics = 5  has Coherence value of 0.4224\n",
      "Number of topics = 6  has Coherence value of 0.3596\n",
      "Number of topics = 7  has Coherence value of 0.3788\n",
      "Number of topics = 8  has Coherence value of 0.363\n",
      "Number of topics = 9  has Coherence value of 0.3759\n",
      "Number of topics = 10  has Coherence value of 0.4065\n"
     ]
    }
   ],
   "source": [
    "for m,cv in zip(x, coherence_values):\n",
    "    print(\"Number of topics =\", m, \" has Coherence value of\", round(cv,4))"
   ]
  },
  {
   "cell_type": "code",
   "execution_count": 14,
   "id": "836e9315",
   "metadata": {},
   "outputs": [
    {
     "data": {
      "text/html": [
       "\n",
       "<link rel=\"stylesheet\" type=\"text/css\" href=\"https://cdn.jsdelivr.net/gh/bmabey/pyLDAvis@3.3.1/pyLDAvis/js/ldavis.v1.0.0.css\">\n",
       "\n",
       "\n",
       "<div id=\"ldavis_el1635616899892524807177141125\"></div>\n",
       "<script type=\"text/javascript\">\n",
       "\n",
       "var ldavis_el1635616899892524807177141125_data = {\"mdsDat\": {\"x\": [-0.13291474451837687, 0.3861325086062094, -0.045237431235489726, -0.2079803328523429], \"y\": [-0.1850234733323606, 0.0863455823794401, -0.22987253540329788, 0.3285504263562183], \"topics\": [1, 2, 3, 4], \"cluster\": [1, 1, 1, 1], \"Freq\": [25.274021665061603, 25.211656204113282, 25.09528063369696, 24.41904149712816]}, \"tinfo\": {\"Term\": [\"flight\", \"thank\", \"time\", \"plane\", \"hour\", \"year\", \"people\", \"parking\", \"day\", \"security\", \"morning\", \"family\", \"love\", \"home\", \"car\", \"staff\", \"today\", \"week\", \"bag\", \"service\", \"baggage\", \"luggage\", \"park\", \"birthday\", \"minute\", \"customer\", \"arrival\", \"guy\", \"tomorrow\", \"test\", \"thank\", \"people\", \"parking\", \"car\", \"service\", \"park\", \"customer\", \"website\", \"number\", \"area\", \"charge\", \"way\", \"book\", \"phone\", \"question\", \"difference\", \"experience\", \"stay\", \"kid\", \"contact\", \"team\", \"email\", \"anniversary\", \"food\", \"border\", \"need\", \"pick\", \"case\", \"fee\", \"complaint\", \"passenger\", \"airport\", \"point\", \"flight\", \"plane\", \"hour\", \"family\", \"bag\", \"baggage\", \"minute\", \"birthday\", \"test\", \"travel\", \"bus\", \"drop\", \"child\", \"lot\", \"info\", \"thing\", \"issue\", \"lounge\", \"trip\", \"track\", \"month\", \"land\", \"game\", \"bit\", \"son\", \"restaurant\", \"list\", \"husband\", \"one\", \"board\", \"passenger\", \"departure\", \"time\", \"security\", \"luggage\", \"arrival\", \"control\", \"gate\", \"passport\", \"queue\", \"min\", \"perfume\", \"check\", \"letter\", \"pig\", \"problem\", \"friend\", \"train\", \"blanket\", \"moon\", \"reason\", \"life\", \"hand\", \"ticket\", \"form\", \"place\", \"water\", \"chance\", \"tonight\", \"use\", \"evening\", \"finger\", \"fitbit\", \"airport\", \"departure\", \"year\", \"day\", \"morning\", \"love\", \"home\", \"staff\", \"today\", \"week\", \"guy\", \"tomorrow\", \"holiday\", \"work\", \"delay\", \"response\", \"information\", \"help\", \"light\", \"shop\", \"airline\", \"yesterday\", \"tree\", \"money\", \"reply\", \"mask\", \"refund\", \"daughter\", \"face\", \"memory\", \"parent\", \"toilet\", \"pie\", \"charade\", \"airport\", \"night\"], \"Freq\": [14209.0, 10131.0, 9086.0, 6352.0, 6072.0, 5780.0, 5454.0, 5158.0, 4923.0, 5003.0, 4853.0, 4460.0, 3898.0, 3883.0, 3937.0, 3756.0, 3620.0, 3234.0, 3089.0, 3012.0, 2774.0, 2678.0, 2678.0, 2578.0, 2546.0, 2360.0, 2187.0, 2137.0, 2131.0, 2154.0, 10130.626829450071, 5453.793058919028, 5157.280240740493, 3936.359098591761, 3011.7304351774446, 2677.257463812504, 2359.217297559187, 2080.3855673681564, 1895.7331616170707, 1669.8089423209947, 1369.3897086211703, 1325.5165758962264, 1312.1487016715055, 1240.3726667889475, 1209.897140284845, 1275.4961801129266, 1176.1682650114485, 1076.573338146361, 1086.3893912376327, 1053.4397708393014, 1008.415848528081, 907.101709321429, 1089.9744015760537, 836.1543097803611, 836.2700686567296, 798.4953371050443, 780.1351380588653, 772.9756042488718, 764.3403608407348, 718.6365207887743, 1918.0910464982114, 2424.435468212159, 787.6788253923769, 14209.080072650819, 6351.203929657232, 6071.534081811879, 4459.18839867165, 3088.9203644428103, 2773.7852323053016, 2545.222492418818, 2577.535685073401, 2153.561886518272, 2050.323873075945, 1971.2571834945195, 1993.9591406409256, 1308.421743163404, 1143.1671889213142, 1113.6537479747215, 1111.350146066431, 1087.0047789254681, 1017.3311384945199, 1008.3215823310209, 1045.8772252788158, 981.2303778138702, 887.3097725191933, 919.1470476179937, 781.8144844089093, 760.3221510501164, 781.3703521681447, 687.0978667676104, 667.4220095580192, 646.0251471002113, 642.7004491317186, 913.8341868168307, 658.5889682271056, 9085.81747124603, 5002.877392636351, 2677.8907495608782, 2187.0689120033467, 1986.9850589821624, 1988.1386948699762, 1971.785259657262, 1613.4943532620555, 1553.0813413543779, 1511.6268854943535, 1399.0646569396524, 1624.9546193148228, 1325.3049634618, 1229.6739034661307, 1148.044266614735, 1151.4607772612683, 1204.7825099708216, 1557.2061446160237, 1080.484364812496, 1055.6188314352833, 1050.9161804020184, 989.7264495490441, 961.178023423847, 946.4832973789319, 939.4748048863057, 925.4877421173463, 928.2302305265091, 903.7876130629404, 866.0488900123767, 843.0306959121735, 966.548574940862, 1687.0808068337235, 964.5623805607119, 5779.768623160525, 4922.8466361225155, 4852.210890551798, 3897.8340122455184, 3882.532963230521, 3755.97107294097, 3619.713975525808, 3233.7118787736053, 2137.04450827378, 2130.3815864031067, 1815.2582945853408, 1752.0831242438326, 1675.320122674568, 1331.555018286102, 1337.6702493596458, 1314.823448563334, 1621.5959866759695, 1237.2200383466336, 1185.8154881127448, 1129.0359077443889, 1073.6724849789389, 993.5103266002461, 975.2155166270811, 967.7502650381481, 1008.5862422971306, 888.8557898411431, 812.019970670471, 798.6311074147558, 785.1923629886575, 781.1236516745454, 936.1091244143712, 1535.1319882023893, 3966.965751455669, 1079.2575059333667], \"Total\": [14209.0, 10131.0, 9086.0, 6352.0, 6072.0, 5780.0, 5454.0, 5158.0, 4923.0, 5003.0, 4853.0, 4460.0, 3898.0, 3883.0, 3937.0, 3756.0, 3620.0, 3234.0, 3089.0, 3012.0, 2774.0, 2678.0, 2678.0, 2578.0, 2546.0, 2360.0, 2187.0, 2137.0, 2131.0, 2154.0, 10131.425512610342, 5454.594974429906, 5158.085662288494, 3937.1535721487858, 3012.531134807154, 2678.048699148024, 2360.0143497768363, 2081.1997443684763, 1896.5311479680202, 1670.6118524527171, 1370.1977387790603, 1326.3120424533565, 1312.9550700164136, 1241.1668120373497, 1210.6955941547908, 1276.3529752754223, 1176.9709871490127, 1077.3710910087345, 1087.19555523148, 1054.233544871599, 1009.2171114330062, 907.895421450415, 1090.9787432867824, 836.9706964425962, 837.087065470256, 799.3139301570782, 780.9388168478018, 773.773400285337, 765.1644406604297, 719.4309370330203, 3658.680948192131, 8078.754756221153, 1079.0301138983482, 14209.900534678194, 6352.057356811691, 6072.351081936655, 4460.016995470603, 3089.7364219012434, 2774.6024560567816, 2546.0523271048514, 2578.4390500902314, 2154.3930917760063, 2051.1458344263406, 1972.0867076728844, 1994.828264721841, 1309.2471174361544, 1143.987076133732, 1114.47657932812, 1112.175620958238, 1087.8280780292735, 1018.1559571382867, 1009.1426728480897, 1046.730505866356, 982.047756056068, 888.1391063544633, 920.0131117448474, 782.6383749903122, 761.1466648460106, 782.25023654393, 687.9178921344944, 668.2503927335873, 646.8459252266747, 643.5183229149854, 3658.680948192131, 1623.7025011567828, 9086.630476853881, 5003.688460328735, 2678.6980376528154, 2187.880271312921, 1987.7913633519545, 1988.946236480407, 1972.5867415068974, 1614.2979704443424, 1553.9034815483312, 1512.4514924805258, 1399.878440830864, 1625.9456254597126, 1326.1679336566742, 1230.4865276682308, 1148.8512101148667, 1152.2727199752303, 1205.6913279012315, 1558.3841877771324, 1081.30518549388, 1056.421934751032, 1051.722323465722, 990.5433245254989, 961.9882318318697, 947.2928550649707, 940.2854315311729, 926.2960675341521, 929.0440058510677, 904.6071236936885, 866.8640078609751, 843.825843160721, 968.2546904870762, 8078.754756221153, 1623.7025011567828, 5780.588732280154, 4923.664152472269, 4853.028287575372, 3898.6480934008077, 3883.3537405398647, 3756.7929014248266, 3620.5345230555045, 3234.5417254693043, 2137.860597468822, 2131.2028104646593, 1816.0749152027126, 1752.9072936671132, 1676.1493286890773, 1332.3731064955427, 1338.5002365455953, 1315.647578083614, 1622.6610651119188, 1238.06320278593, 1186.632679983395, 1129.8564374800405, 1074.5236819666081, 994.3382369269489, 976.046601823609, 968.6104451002817, 1009.4861896533506, 889.6725143949311, 812.8442780471253, 799.4691639732567, 786.0182004657626, 781.9642481383694, 937.1780256928049, 1576.9868787530936, 8078.754756221153, 1561.1097108101246], \"Category\": [\"Default\", \"Default\", \"Default\", \"Default\", \"Default\", \"Default\", \"Default\", \"Default\", \"Default\", \"Default\", \"Default\", \"Default\", \"Default\", \"Default\", \"Default\", \"Default\", \"Default\", \"Default\", \"Default\", \"Default\", \"Default\", \"Default\", \"Default\", \"Default\", \"Default\", \"Default\", \"Default\", \"Default\", \"Default\", \"Default\", \"Topic1\", \"Topic1\", \"Topic1\", \"Topic1\", \"Topic1\", \"Topic1\", \"Topic1\", \"Topic1\", \"Topic1\", \"Topic1\", \"Topic1\", \"Topic1\", \"Topic1\", \"Topic1\", \"Topic1\", \"Topic1\", \"Topic1\", \"Topic1\", \"Topic1\", \"Topic1\", \"Topic1\", \"Topic1\", \"Topic1\", \"Topic1\", \"Topic1\", \"Topic1\", \"Topic1\", \"Topic1\", \"Topic1\", \"Topic1\", \"Topic1\", \"Topic1\", \"Topic1\", \"Topic2\", \"Topic2\", \"Topic2\", \"Topic2\", \"Topic2\", \"Topic2\", \"Topic2\", \"Topic2\", \"Topic2\", \"Topic2\", \"Topic2\", \"Topic2\", \"Topic2\", \"Topic2\", \"Topic2\", \"Topic2\", \"Topic2\", \"Topic2\", \"Topic2\", \"Topic2\", \"Topic2\", \"Topic2\", \"Topic2\", \"Topic2\", \"Topic2\", \"Topic2\", \"Topic2\", \"Topic2\", \"Topic2\", \"Topic2\", \"Topic2\", \"Topic2\", \"Topic3\", \"Topic3\", \"Topic3\", \"Topic3\", \"Topic3\", \"Topic3\", \"Topic3\", \"Topic3\", \"Topic3\", \"Topic3\", \"Topic3\", \"Topic3\", \"Topic3\", \"Topic3\", \"Topic3\", \"Topic3\", \"Topic3\", \"Topic3\", \"Topic3\", \"Topic3\", \"Topic3\", \"Topic3\", \"Topic3\", \"Topic3\", \"Topic3\", \"Topic3\", \"Topic3\", \"Topic3\", \"Topic3\", \"Topic3\", \"Topic3\", \"Topic3\", \"Topic3\", \"Topic4\", \"Topic4\", \"Topic4\", \"Topic4\", \"Topic4\", \"Topic4\", \"Topic4\", \"Topic4\", \"Topic4\", \"Topic4\", \"Topic4\", \"Topic4\", \"Topic4\", \"Topic4\", \"Topic4\", \"Topic4\", \"Topic4\", \"Topic4\", \"Topic4\", \"Topic4\", \"Topic4\", \"Topic4\", \"Topic4\", \"Topic4\", \"Topic4\", \"Topic4\", \"Topic4\", \"Topic4\", \"Topic4\", \"Topic4\", \"Topic4\", \"Topic4\", \"Topic4\", \"Topic4\"], \"logprob\": [30.0, 29.0, 28.0, 27.0, 26.0, 25.0, 24.0, 23.0, 22.0, 21.0, 20.0, 19.0, 18.0, 17.0, 16.0, 15.0, 14.0, 13.0, 12.0, 11.0, 10.0, 9.0, 8.0, 7.0, 6.0, 5.0, 4.0, 3.0, 2.0, 1.0, -2.5026, -3.1219, -3.1778, -3.4479, -3.7157, -3.8334, -3.9598, -4.0856, -4.1786, -4.3055, -4.5038, -4.5364, -4.5465, -4.6028, -4.6276, -4.5748, -4.6559, -4.7444, -4.7353, -4.7661, -4.8098, -4.9157, -4.732, -4.9971, -4.997, -5.0432, -5.0665, -5.0757, -5.0869, -5.1486, -4.1668, -3.9326, -5.0568, -2.1618, -2.9671, -3.0121, -3.3207, -3.6879, -3.7955, -3.8815, -3.8689, -4.0486, -4.0977, -4.137, -4.1256, -4.5469, -4.6819, -4.7081, -4.7101, -4.7323, -4.7985, -4.8074, -4.7708, -4.8346, -4.9353, -4.9, -5.0618, -5.0897, -5.0624, -5.191, -5.22, -5.2526, -5.2578, -4.9058, -5.2334, -2.6044, -3.2011, -3.826, -4.0285, -4.1245, -4.1239, -4.1321, -4.3327, -4.3708, -4.3979, -4.4753, -4.3256, -4.5294, -4.6043, -4.673, -4.67, -4.6248, -4.3682, -4.7337, -4.7569, -4.7614, -4.8214, -4.8507, -4.8661, -4.8735, -4.8885, -4.8855, -4.9122, -4.9549, -4.9818, -4.8451, -4.2881, -4.8472, -3.0294, -3.1899, -3.2043, -3.4233, -3.4273, -3.4604, -3.4974, -3.6101, -4.0243, -4.0275, -4.1875, -4.2229, -4.2678, -4.4974, -4.4928, -4.5101, -4.3003, -4.5709, -4.6133, -4.6624, -4.7127, -4.7903, -4.8089, -4.8165, -4.7752, -4.9016, -4.992, -5.0086, -5.0256, -5.0308, -4.8498, -4.3551, -3.4058, -4.7075], \"loglift\": [30.0, 29.0, 28.0, 27.0, 26.0, 25.0, 24.0, 23.0, 22.0, 21.0, 20.0, 19.0, 18.0, 17.0, 16.0, 15.0, 14.0, 13.0, 12.0, 11.0, 10.0, 9.0, 8.0, 7.0, 6.0, 5.0, 4.0, 3.0, 2.0, 1.0, 1.3753, 1.3752, 1.3752, 1.3752, 1.3751, 1.3751, 1.3751, 1.375, 1.375, 1.3749, 1.3748, 1.3748, 1.3748, 1.3748, 1.3747, 1.3747, 1.3747, 1.3747, 1.3747, 1.3746, 1.3746, 1.3745, 1.3745, 1.3744, 1.3744, 1.3744, 1.3744, 1.3744, 1.3743, 1.3743, 0.7296, 0.1718, 1.0607, 1.3778, 1.3777, 1.3777, 1.3777, 1.3776, 1.3776, 1.3775, 1.3775, 1.3775, 1.3775, 1.3774, 1.3774, 1.3772, 1.3771, 1.3771, 1.3771, 1.3771, 1.3771, 1.377, 1.377, 1.377, 1.3769, 1.3769, 1.3768, 1.3768, 1.3767, 1.3767, 1.3766, 1.3766, 1.3766, -0.0093, 0.4755, 1.3824, 1.3823, 1.3822, 1.3821, 1.3821, 1.3821, 1.3821, 1.382, 1.382, 1.3819, 1.3819, 1.3819, 1.3818, 1.3818, 1.3818, 1.3818, 1.3817, 1.3817, 1.3817, 1.3817, 1.3817, 1.3817, 1.3816, 1.3816, 1.3816, 1.3816, 1.3816, 1.3816, 1.3815, 1.3815, 1.3807, -0.1837, 0.8617, 1.4097, 1.4096, 1.4096, 1.4096, 1.4096, 1.4096, 1.4096, 1.4096, 1.4094, 1.4094, 1.4094, 1.4093, 1.4093, 1.4092, 1.4092, 1.4092, 1.4092, 1.4091, 1.4091, 1.4091, 1.409, 1.409, 1.409, 1.4089, 1.4089, 1.4089, 1.4088, 1.4088, 1.4088, 1.4087, 1.4087, 1.3829, 0.6986, 1.0407]}, \"token.table\": {\"Topic\": [4, 1, 3, 4, 1, 1, 3, 2, 2, 2, 2, 3, 2, 1, 1, 2, 1, 1, 3, 1, 2, 3, 4, 1, 3, 2, 1, 1, 3, 1, 4, 4, 4, 2, 3, 1, 2, 1, 3, 1, 4, 2, 1, 3, 2, 3, 4, 2, 1, 3, 3, 2, 3, 4, 3, 4, 4, 4, 2, 2, 2, 4, 2, 1, 2, 3, 3, 4, 2, 2, 2, 4, 3, 4, 4, 3, 2, 4, 2, 3, 4, 1, 2, 4, 1, 2, 4, 1, 1, 1, 2, 3, 3, 1, 3, 1, 1, 4, 3, 3, 2, 1, 3, 3, 1, 3, 3, 4, 4, 4, 2, 3, 1, 4, 2, 4, 1, 1, 2, 1, 2, 3, 3, 4, 4, 4, 3, 2, 3, 2, 4, 2, 3, 3, 1, 1, 4, 4, 4, 4], \"Freq\": [0.9994668274403129, 0.30004624142518577, 0.20881931076084506, 0.49104102299245544, 0.9991028759333718, 0.9996337554699981, 0.9995976601990232, 0.9997616554292388, 0.999782867612091, 0.9998297225252557, 0.9991843295566486, 0.9994266128608266, 0.999194548318939, 0.9992725798176767, 0.9987013710818178, 0.9994489554294665, 0.9997070035172247, 0.9990004822018284, 0.9986008063948686, 0.010780051647253854, 0.013316534387784172, 0.0025364827405303185, 0.9733752516785097, 0.9991258642857435, 0.9993724877780511, 0.9990474545106529, 0.9994010029165585, 0.9988299130893723, 0.9996018881223933, 0.9995701933859291, 0.9992440877018792, 0.9998651101188664, 0.9993143041199222, 0.4058625268671479, 0.5943206956400573, 0.9989399677819293, 0.9995847939712462, 0.9990137394359975, 0.9990032948038677, 0.9991750118230487, 0.9989613286702913, 0.9997719749786522, 0.998478182468301, 0.9990213108932199, 0.0010327861148774341, 0.9987041730864789, 0.0010327861148774341, 0.9999366262504092, 0.998840226489742, 0.9989727194167564, 0.9992590771482222, 0.9988988072757724, 0.9995242523588364, 0.9995974492116834, 0.9993131994542612, 0.9995077875759424, 0.9994081107592455, 0.9999089084941781, 0.9999421835246485, 0.9981288559689844, 0.999572373850685, 0.9996262708575336, 0.9992387785845962, 0.9989003310161386, 0.9987174234910802, 0.9994184150780286, 0.9996006001606437, 0.999592604317604, 0.9986656952159707, 0.9991371614642117, 0.9988646561165976, 0.9998337645806236, 0.9997394115936162, 0.9993697723337905, 0.9994131556357658, 0.9994185729300052, 0.9995866828447914, 0.9996598371515972, 0.9989330905247665, 0.9991117801451086, 0.999788114242399, 0.9983561775824175, 0.30811415537886133, 0.6911749972012294, 0.9997199371238435, 0.9986922307249934, 0.998704609555912, 0.9996084092315582, 0.9997895222453494, 0.5242326475468554, 0.24981680910209897, 0.22576442485594503, 0.9997025522403901, 0.9998909223447946, 0.9997014830010943, 0.9990599071566904, 0.9987978355953783, 0.9987430075604535, 0.999119316922817, 0.9986352107924619, 0.9998335410478375, 0.7302854571436316, 0.26968663455431063, 0.9996046054489091, 0.9994254590847202, 0.9991959536169243, 0.9987929536347467, 0.9995183790939056, 0.9989277132652749, 0.9997199684579914, 0.9984017434760344, 0.999862409433722, 0.9998236915127557, 0.9991412370680774, 0.998493503421916, 0.9997889419391403, 0.9996555587839404, 0.9987940043631662, 0.9998175394372054, 0.9999580007166995, 0.9989429538500179, 0.9994514883780988, 0.9999306148901413, 0.9998523634971299, 0.9987668897386741, 0.9994356189571667, 0.9988762579119045, 0.9993021070253882, 0.9988954698369864, 0.9994413686208417, 0.9995126380410251, 0.9988676795870055, 0.9993288537335308, 0.9986329347578217, 0.9997647292316073, 0.9994235323295024, 0.9998325186331533, 0.9994824063597709, 0.9998981535778759, 0.9992419944236892], \"Term\": [\"airline\", \"airport\", \"airport\", \"airport\", \"anniversary\", \"area\", \"arrival\", \"bag\", \"baggage\", \"birthday\", \"bit\", \"blanket\", \"board\", \"book\", \"border\", \"bus\", \"car\", \"case\", \"chance\", \"charade\", \"charade\", \"charade\", \"charade\", \"charge\", \"check\", \"child\", \"complaint\", \"contact\", \"control\", \"customer\", \"daughter\", \"day\", \"delay\", \"departure\", \"departure\", \"difference\", \"drop\", \"email\", \"evening\", \"experience\", \"face\", \"family\", \"fee\", \"finger\", \"fitbit\", \"fitbit\", \"fitbit\", \"flight\", \"food\", \"form\", \"friend\", \"game\", \"gate\", \"guy\", \"hand\", \"help\", \"holiday\", \"home\", \"hour\", \"husband\", \"info\", \"information\", \"issue\", \"kid\", \"land\", \"letter\", \"life\", \"light\", \"list\", \"lot\", \"lounge\", \"love\", \"luggage\", \"mask\", \"memory\", \"min\", \"minute\", \"money\", \"month\", \"moon\", \"morning\", \"need\", \"night\", \"night\", \"number\", \"one\", \"parent\", \"park\", \"parking\", \"passenger\", \"passenger\", \"passenger\", \"passport\", \"people\", \"perfume\", \"phone\", \"pick\", \"pie\", \"pig\", \"place\", \"plane\", \"point\", \"point\", \"problem\", \"question\", \"queue\", \"reason\", \"refund\", \"reply\", \"response\", \"restaurant\", \"security\", \"service\", \"shop\", \"son\", \"staff\", \"stay\", \"team\", \"test\", \"thank\", \"thing\", \"ticket\", \"time\", \"today\", \"toilet\", \"tomorrow\", \"tonight\", \"track\", \"train\", \"travel\", \"tree\", \"trip\", \"use\", \"water\", \"way\", \"website\", \"week\", \"work\", \"year\", \"yesterday\"]}, \"R\": 30, \"lambda.step\": 0.01, \"plot.opts\": {\"xlab\": \"PC1\", \"ylab\": \"PC2\"}, \"topic.order\": [1, 3, 2, 4]};\n",
       "\n",
       "function LDAvis_load_lib(url, callback){\n",
       "  var s = document.createElement('script');\n",
       "  s.src = url;\n",
       "  s.async = true;\n",
       "  s.onreadystatechange = s.onload = callback;\n",
       "  s.onerror = function(){console.warn(\"failed to load library \" + url);};\n",
       "  document.getElementsByTagName(\"head\")[0].appendChild(s);\n",
       "}\n",
       "\n",
       "if(typeof(LDAvis) !== \"undefined\"){\n",
       "   // already loaded: just create the visualization\n",
       "   !function(LDAvis){\n",
       "       new LDAvis(\"#\" + \"ldavis_el1635616899892524807177141125\", ldavis_el1635616899892524807177141125_data);\n",
       "   }(LDAvis);\n",
       "}else if(typeof define === \"function\" && define.amd){\n",
       "   // require.js is available: use it to load d3/LDAvis\n",
       "   require.config({paths: {d3: \"https://d3js.org/d3.v5\"}});\n",
       "   require([\"d3\"], function(d3){\n",
       "      window.d3 = d3;\n",
       "      LDAvis_load_lib(\"https://cdn.jsdelivr.net/gh/bmabey/pyLDAvis@3.3.1/pyLDAvis/js/ldavis.v3.0.0.js\", function(){\n",
       "        new LDAvis(\"#\" + \"ldavis_el1635616899892524807177141125\", ldavis_el1635616899892524807177141125_data);\n",
       "      });\n",
       "    });\n",
       "}else{\n",
       "    // require.js not available: dynamically load d3 & LDAvis\n",
       "    LDAvis_load_lib(\"https://d3js.org/d3.v5.js\", function(){\n",
       "         LDAvis_load_lib(\"https://cdn.jsdelivr.net/gh/bmabey/pyLDAvis@3.3.1/pyLDAvis/js/ldavis.v3.0.0.js\", function(){\n",
       "                 new LDAvis(\"#\" + \"ldavis_el1635616899892524807177141125\", ldavis_el1635616899892524807177141125_data);\n",
       "            })\n",
       "         });\n",
       "}\n",
       "</script>"
      ],
      "text/plain": [
       "PreparedData(topic_coordinates=              x         y  topics  cluster       Freq\n",
       "topic                                                \n",
       "0     -0.132915 -0.185023       1        1  25.274022\n",
       "2      0.386133  0.086346       2        1  25.211656\n",
       "1     -0.045237 -0.229873       3        1  25.095281\n",
       "3     -0.207980  0.328550       4        1  24.419041, topic_info=         Term          Freq         Total Category  logprob  loglift\n",
       "10     flight  14209.000000  14209.000000  Default  30.0000  30.0000\n",
       "34      thank  10131.000000  10131.000000  Default  29.0000  29.0000\n",
       "28       time   9086.000000   9086.000000  Default  28.0000  28.0000\n",
       "173     plane   6352.000000   6352.000000  Default  27.0000  27.0000\n",
       "11       hour   6072.000000   6072.000000  Default  26.0000  26.0000\n",
       "...       ...           ...           ...      ...      ...      ...\n",
       "159    toilet    781.123652    781.964248   Topic4  -5.0308   1.4087\n",
       "751       pie    936.109124    937.178026   Topic4  -4.8498   1.4087\n",
       "4936  charade   1535.131988   1576.986879   Topic4  -4.3551   1.3829\n",
       "9     airport   3966.965751   8078.754756   Topic4  -3.4058   0.6986\n",
       "58      night   1079.257506   1561.109711   Topic4  -4.7075   1.0407\n",
       "\n",
       "[162 rows x 6 columns], token_table=      Topic      Freq         Term\n",
       "term                              \n",
       "137       4  0.999467      airline\n",
       "9         1  0.300046      airport\n",
       "9         3  0.208819      airport\n",
       "9         4  0.491041      airport\n",
       "1200      1  0.999103  anniversary\n",
       "...     ...       ...          ...\n",
       "254       1  0.999424      website\n",
       "41        4  0.999833         week\n",
       "46        4  0.999482         work\n",
       "183       4  0.999898         year\n",
       "47        4  0.999242    yesterday\n",
       "\n",
       "[140 rows x 3 columns], R=30, lambda_step=0.01, plot_opts={'xlab': 'PC1', 'ylab': 'PC2'}, topic_order=[1, 3, 2, 4])"
      ]
     },
     "execution_count": 14,
     "metadata": {},
     "output_type": "execute_result"
    }
   ],
   "source": [
    "pyLDAvis.enable_notebook()\n",
    "vis = pyLDAvis.gensim_models.prepare(lda_model, corpus, id2word)\n",
    "vis"
   ]
  },
  {
   "cell_type": "markdown",
   "id": "d6e6d7c8",
   "metadata": {},
   "source": [
    "## Topic modelling with bigrams and trigrams"
   ]
  },
  {
   "cell_type": "markdown",
   "id": "e868350c",
   "metadata": {},
   "source": [
    "**1) unigrams:** single word that represents a single concept.<br>\n",
    "**2) bigrams:** two words that contain a distinct meaning when used together.<br>\n",
    "**3) trigrams:**  three words that contain a distinct meaning when used together.<br>\n",
    "\n",
    "So, why are bigrams and trigrams so important? Because machines need to understand that when certain words are used together, they bear a distinct meaning. In order to produce a good topic model, therefore, the model must be able to understand and process words in this manner, the way we humans use the language we are trying to get the machine to understand."
   ]
  },
  {
   "cell_type": "code",
   "execution_count": 15,
   "id": "3bdaf128",
   "metadata": {},
   "outputs": [
    {
     "name": "stdout",
     "output_type": "stream",
     "text": [
      "['update', 'passenger', 'coach']\n"
     ]
    }
   ],
   "source": [
    "bigram = gensim.models.Phrases(data_words, min_count=5, threshold=100) # higher threshold fewer phrases.\n",
    "trigram = gensim.models.Phrases(bigram[data_words], threshold=100)  \n",
    "bigram_mod = gensim.models.phrases.Phraser(bigram)\n",
    "trigram_mod = gensim.models.phrases.Phraser(trigram)\n",
    "\n",
    "# !python3 -m spacy download en  # run in terminal once\n",
    "def process_words(texts, stop_words=stop_words, allowed_postags=['NOUN']):\n",
    "    \"\"\"Remove Stopwords, Form Bigrams, Trigrams and Lemmatization\"\"\"\n",
    "    texts = [[word for word in simple_preprocess(str(doc)) if word not in stop_words] for doc in texts]\n",
    "    texts = [bigram_mod[doc] for doc in texts]\n",
    "    texts = [trigram_mod[bigram_mod[doc]] for doc in texts]\n",
    "    texts_out = []\n",
    "    nlp = spacy.load(\"en_core_web_sm\", disable=[\"parser\", \"ner\"])\n",
    "    for sent in texts:\n",
    "        doc = nlp(\" \".join(sent)) \n",
    "        texts_out.append([token.lemma_ for token in doc if token.pos_ in allowed_postags])\n",
    "    # remove stopwords once more after lemmatization\n",
    "    texts_out = [[word for word in simple_preprocess(str(doc)) if word not in stop_words] for doc in texts_out]    \n",
    "    return texts_out\n",
    "\n",
    "data_bigrams_trigrams = process_words(data_words)  # processed Text Data!\n",
    "print (data_bigrams_trigrams[0])"
   ]
  },
  {
   "cell_type": "markdown",
   "id": "a97ddcd8",
   "metadata": {},
   "source": [
    "## TF-IDF"
   ]
  },
  {
   "cell_type": "code",
   "execution_count": 16,
   "id": "3fb707f4",
   "metadata": {},
   "outputs": [],
   "source": [
    "#TF-IDF REMOVAL\n",
    "from gensim.models import TfidfModel\n",
    "\n",
    "id2word = corpora.Dictionary(data_bigrams_trigrams)\n",
    "\n",
    "texts = data_bigrams_trigrams\n",
    "\n",
    "corpus = [id2word.doc2bow(text) for text in texts]\n",
    "\n",
    "tfidf = TfidfModel(corpus, id2word=id2word)\n",
    "\n",
    "low_value = 0.03\n",
    "words  = []\n",
    "words_missing_in_tfidf = []\n",
    "for i in range(0, len(corpus)):\n",
    "    bow = corpus[i]\n",
    "    low_value_words = [] \n",
    "    tfidf_ids = [id for id, value in tfidf[bow]]\n",
    "    bow_ids = [id for id, value in bow]\n",
    "    low_value_words = [id for id, value in tfidf[bow] if value < low_value]\n",
    "    drops = low_value_words+words_missing_in_tfidf\n",
    "    for item in drops:\n",
    "        words.append(id2word[item])\n",
    "    words_missing_in_tfidf = [id for id in bow_ids if id not in tfidf_ids] # The words with tf-idf socre 0 will be missing\n",
    "\n",
    "    new_bow = [b for b in bow if b[0] not in low_value_words and b[0] not in words_missing_in_tfidf]\n",
    "    corpus[i] = new_bow"
   ]
  },
  {
   "cell_type": "code",
   "execution_count": 17,
   "id": "b75fb118",
   "metadata": {},
   "outputs": [],
   "source": [
    "# Build LDA model\n",
    "lda_model_grams = gensim.models.ldamodel.LdaModel(corpus=corpus[:-1],\n",
    "                                           id2word=id2word,\n",
    "                                           num_topics=4, \n",
    "                                           random_state=100,\n",
    "                                           chunksize=1000,\n",
    "                                           passes=10,\n",
    "                                           alpha='symmetric',\n",
    "                                           per_word_topics=True)"
   ]
  },
  {
   "cell_type": "code",
   "execution_count": 18,
   "id": "5dcacf9c",
   "metadata": {},
   "outputs": [
    {
     "name": "stdout",
     "output_type": "stream",
     "text": [
      "[(0, '0.075*\"time\" + 0.054*\"plane\" + 0.048*\"year\" + 0.040*\"parking\" + 0.034*\"love\" + 0.018*\"guy\" + 0.016*\"website\" + 0.015*\"work\" + 0.015*\"car\" + 0.012*\"perfume\"'), (1, '0.138*\"flight\" + 0.059*\"hour\" + 0.047*\"morning\" + 0.032*\"week\" + 0.030*\"bag\" + 0.025*\"minute\" + 0.021*\"luggage\" + 0.021*\"tomorrow\" + 0.015*\"night\" + 0.015*\"min\"'), (2, '0.071*\"airport\" + 0.045*\"people\" + 0.042*\"security\" + 0.034*\"staff\" + 0.023*\"birthday\" + 0.018*\"travel\" + 0.018*\"drop\" + 0.015*\"number\" + 0.014*\"delay\" + 0.014*\"queue\"'), (3, '0.092*\"thank\" + 0.047*\"day\" + 0.044*\"family\" + 0.036*\"today\" + 0.021*\"passenger\" + 0.021*\"home\" + 0.020*\"service\" + 0.019*\"baggage\" + 0.018*\"bus\" + 0.018*\"holiday\"')]\n"
     ]
    }
   ],
   "source": [
    "print(lda_model_grams.print_topics())\n",
    "doc_lda = lda_model_grams[corpus]"
   ]
  },
  {
   "cell_type": "code",
   "execution_count": 19,
   "id": "32f137ca",
   "metadata": {},
   "outputs": [
    {
     "name": "stdout",
     "output_type": "stream",
     "text": [
      "Coherence Score: 0.3080077071293482\n"
     ]
    }
   ],
   "source": [
    "lda_coherence_model = CoherenceModel(model= lda_model_grams, texts = data_bigrams_trigrams, dictionary = id2word,\n",
    "                                    coherence='c_v')\n",
    "coherence_lda = lda_coherence_model.get_coherence()\n",
    "\n",
    "print(\"Coherence Score:\", coherence_lda)"
   ]
  },
  {
   "cell_type": "code",
   "execution_count": 20,
   "id": "3385285e",
   "metadata": {},
   "outputs": [],
   "source": [
    "def opt_coherence(dictionary, corpus, texts, limit, start=1, step=1):\n",
    "    \n",
    "    coherence_values=[]\n",
    "    model_list = []\n",
    "    for topics in range(start,limit,step):\n",
    "        model = gensim.models.ldamodel.LdaModel(corpus=corpus, num_topics = topics, random_state=100,\n",
    "                                               chunksize=1000, passes = 10, per_word_topics=True, id2word=id2word, alpha ='symmetric')\n",
    "        model_list.append(model)\n",
    "        coherence_model = CoherenceModel(model=model, texts=data_bigrams_trigrams, dictionary=dictionary, coherence='c_v')\n",
    "        coherence_values.append(coherence_model.get_coherence())\n",
    "        \n",
    "    return model_list, coherence_values\n",
    "\n",
    "model_list, coherence_values = opt_coherence(dictionary = id2word, corpus=corpus, texts =data_bigrams_trigrams, start=1, limit=11,step=1)"
   ]
  },
  {
   "cell_type": "code",
   "execution_count": 21,
   "id": "c23c6134",
   "metadata": {},
   "outputs": [
    {
     "data": {
      "text/plain": [
       "<function matplotlib.pyplot.show(close=None, block=None)>"
      ]
     },
     "execution_count": 21,
     "metadata": {},
     "output_type": "execute_result"
    },
    {
     "data": {
      "image/png": "[encoded data removed]",
      "text/plain": [
       "<Figure size 432x288 with 1 Axes>"
      ]
     },
     "metadata": {
      "needs_background": "light"
     },
     "output_type": "display_data"
    }
   ],
   "source": [
    "x = range(1,11,1)\n",
    "plt.plot(x,coherence_values)\n",
    "plt.xlabel(\"Number of Topics\")\n",
    "plt.ylabel(\"Coherence Score\")\n",
    "plt.show"
   ]
  },
  {
   "cell_type": "markdown",
   "id": "4da163ba",
   "metadata": {},
   "source": [
    "As we can see, number of topics = 4, has the higher coherence value, so we will use this one in our model."
   ]
  },
  {
   "cell_type": "code",
   "execution_count": 22,
   "id": "66f4d6b9",
   "metadata": {},
   "outputs": [
    {
     "name": "stdout",
     "output_type": "stream",
     "text": [
      "Number of topics = 1  has Coherence value of 0.3543\n",
      "Number of topics = 2  has Coherence value of 0.2077\n",
      "Number of topics = 3  has Coherence value of 0.33\n",
      "Number of topics = 4  has Coherence value of 0.3104\n",
      "Number of topics = 5  has Coherence value of 0.3161\n",
      "Number of topics = 6  has Coherence value of 0.3591\n",
      "Number of topics = 7  has Coherence value of 0.3538\n",
      "Number of topics = 8  has Coherence value of 0.3532\n",
      "Number of topics = 9  has Coherence value of 0.3857\n",
      "Number of topics = 10  has Coherence value of 0.3726\n"
     ]
    }
   ],
   "source": [
    "for m,cv in zip(x, coherence_values):\n",
    "    print(\"Number of topics =\", m, \" has Coherence value of\", round(cv,4))"
   ]
  },
  {
   "cell_type": "code",
   "execution_count": 23,
   "id": "941e2157",
   "metadata": {},
   "outputs": [
    {
     "data": {
      "text/html": [
       "\n",
       "<link rel=\"stylesheet\" type=\"text/css\" href=\"https://cdn.jsdelivr.net/gh/bmabey/pyLDAvis@3.3.1/pyLDAvis/js/ldavis.v1.0.0.css\">\n",
       "\n",
       "\n",
       "<div id=\"ldavis_el1635616899839831685337405135\"></div>\n",
       "<script type=\"text/javascript\">\n",
       "\n",
       "var ldavis_el1635616899839831685337405135_data = {\"mdsDat\": {\"x\": [0.23580517622116462, 0.3027023360593114, -0.23629915775571195, -0.302208354524764], \"y\": [-0.3120797218186339, 0.23366918763599343, 0.31423035452432957, -0.23581982034168908], \"topics\": [1, 2, 3, 4], \"cluster\": [1, 1, 1, 1], \"Freq\": [26.480805967255726, 25.257048384822596, 24.52935729675526, 23.73278835116642]}, \"tinfo\": {\"Term\": [\"flight\", \"thank\", \"time\", \"airport\", \"hour\", \"plane\", \"year\", \"morning\", \"day\", \"people\", \"family\", \"security\", \"parking\", \"today\", \"staff\", \"love\", \"week\", \"bag\", \"minute\", \"birthday\", \"luggage\", \"tomorrow\", \"home\", \"service\", \"baggage\", \"travel\", \"bus\", \"drop\", \"guy\", \"holiday\", \"airport\", \"people\", \"security\", \"staff\", \"birthday\", \"travel\", \"drop\", \"number\", \"queue\", \"delay\", \"information\", \"way\", \"check\", \"response\", \"difference\", \"experience\", \"question\", \"contact\", \"line\", \"refund\", \"reply\", \"team\", \"tree\", \"chance\", \"form\", \"test\", \"country\", \"fly\", \"hope\", \"case\", \"passenger\", \"flight\", \"hour\", \"morning\", \"week\", \"bag\", \"minute\", \"luggage\", \"tomorrow\", \"night\", \"min\", \"customer\", \"child\", \"yesterday\", \"shop\", \"info\", \"train\", \"phone\", \"issue\", \"trip\", \"ticket\", \"daughter\", \"tonight\", \"evening\", \"joke\", \"son\", \"baby\", \"pm\", \"man\", \"board\", \"congratulation\", \"arrival\", \"gate\", \"time\", \"plane\", \"year\", \"parking\", \"love\", \"guy\", \"website\", \"work\", \"car\", \"perfume\", \"help\", \"charge\", \"light\", \"book\", \"problem\", \"airline\", \"thing\", \"point\", \"reason\", \"month\", \"passport\", \"game\", \"use\", \"land\", \"parent\", \"need\", \"food\", \"idea\", \"toilet\", \"restaurant\", \"anniversary\", \"gate\", \"thank\", \"day\", \"family\", \"today\", \"home\", \"service\", \"baggage\", \"bus\", \"holiday\", \"terminal\", \"departure\", \"area\", \"friend\", \"kid\", \"money\", \"place\", \"bit\", \"lounge\", \"person\", \"message\", \"dinner\", \"pick\", \"husband\", \"change\", \"fee\", \"movie\", \"door\", \"call\", \"moment\", \"hand\", \"charade\", \"passenger\", \"arrival\", \"lot\"], \"Freq\": [15802.0, 9949.0, 8376.0, 8557.0, 6713.0, 5988.0, 5384.0, 5360.0, 5019.0, 5350.0, 4726.0, 5077.0, 4441.0, 3831.0, 4061.0, 3755.0, 3624.0, 3428.0, 2811.0, 2725.0, 2368.0, 2367.0, 2211.0, 2127.0, 2003.0, 2163.0, 1976.0, 2139.0, 1990.0, 1922.0, 8557.14714153199, 5350.1428424529895, 5076.646107064204, 4061.0881330051448, 2724.669682701037, 2162.493951576087, 2139.0450161118174, 1777.9470656965489, 1723.9582653112425, 1739.1522674594892, 1414.9925688242354, 1321.4526863993756, 1336.1414556303273, 1226.3693722072508, 1259.7343144168267, 1161.3840957435477, 1149.1496983737711, 1030.415713395818, 1009.4545859685247, 1051.9057809954897, 974.1997729527769, 978.4069161166701, 1025.6943911806363, 954.342151153608, 926.0624710727457, 810.4629318795021, 797.1199966812296, 758.6223778327735, 740.8347236997372, 738.0739467492775, 1361.3114036216377, 15802.121486886781, 6712.475238396724, 5359.530185347361, 3624.1714222708442, 3427.354526201782, 2810.6873112947937, 2368.00987000554, 2366.95138779263, 1727.883899065518, 1708.1948926629846, 1446.5468143238177, 1339.8063919333722, 1246.77898844978, 1295.068773001872, 1219.841661387741, 1197.492157169929, 1206.713772813417, 1175.3650366093032, 1144.0735761960327, 1051.6827126002524, 1015.8481193918493, 992.1564204776186, 921.4836408356011, 765.7912958864388, 773.0674011707389, 655.1152693873512, 635.9028679594637, 609.8683545503043, 584.3743880834087, 577.9620059913843, 1458.5855029426564, 682.6528190061364, 8375.459411058604, 5987.889967807333, 5383.6828930776865, 4440.216455406348, 3754.505557651929, 1989.2286548471436, 1816.720737294828, 1613.9811894750023, 1613.6039298547362, 1363.823049225518, 1206.7220748033212, 1214.5693235108656, 1239.455095875385, 1194.9657037592585, 1099.3806291530107, 1066.0208101780831, 1030.8795219694007, 938.550564579914, 942.2284833270767, 910.995385182375, 887.3755353382486, 869.973943320748, 837.0134995423982, 825.5277464988694, 732.3193453487954, 678.3779009372686, 671.8645270595338, 618.2348242260384, 624.6528991332502, 621.2539888394609, 932.6124028579555, 1173.094590024229, 9949.177074234103, 5018.824113793038, 4725.675222972164, 3830.7502679073173, 2210.960220666108, 2126.635250629688, 2002.9136215590875, 1975.758075170826, 1921.2631752828524, 1692.1146378278422, 1627.182019603354, 1544.067029532336, 1171.072690296312, 1077.664101096122, 994.9723484469453, 961.9605310971727, 841.696359895075, 829.8670593652696, 799.9655810560224, 756.1088935756957, 761.3611266633166, 726.877850202136, 717.5717382426077, 664.0057457769256, 622.7895566945494, 593.8532160533897, 583.4024688594661, 580.3503086783722, 567.3910053232621, 542.9314301989208, 1620.3157115266836, 2244.8593032054523, 777.0410558894445, 674.8839397158534], \"Total\": [15802.0, 9949.0, 8376.0, 8557.0, 6713.0, 5988.0, 5384.0, 5360.0, 5019.0, 5350.0, 4726.0, 5077.0, 4441.0, 3831.0, 4061.0, 3755.0, 3624.0, 3428.0, 2811.0, 2725.0, 2368.0, 2367.0, 2211.0, 2127.0, 2003.0, 2163.0, 1976.0, 2139.0, 1990.0, 1922.0, 8557.96398338516, 5350.9557455638615, 5077.460886498953, 4061.8978170990895, 2725.5703132995595, 2163.3113930811487, 2139.8880188612266, 1778.7682184580685, 1724.7685609093653, 1739.98306909766, 1415.8068759709374, 1322.2636566921103, 1336.9620211103852, 1227.1761956895998, 1260.608225094534, 1162.1945352453238, 1149.9641762924118, 1031.2295739067235, 1010.2712973318188, 1052.776282721282, 975.0131175737652, 979.2241143611676, 1026.5696697861465, 955.1572350610804, 926.8777187939706, 811.2802835319787, 797.9266739606345, 759.4525677132601, 741.6476371172012, 738.8899966427426, 3606.7096385156283, 15802.921093331863, 6713.273305992143, 5360.327870954053, 3624.9811710212266, 3428.152203585112, 2811.4954704423503, 2368.806782114605, 2367.7507152101944, 1728.6837398015207, 1709.0039844606686, 1447.3572610841497, 1340.6150717514922, 1247.5796638526483, 1295.9009489184955, 1220.646628578472, 1198.2994817782455, 1207.529510116541, 1176.1684647767, 1144.8791282544491, 1052.4901784916933, 1016.6556935937939, 992.9552386525838, 922.2796465434475, 766.5907340230864, 773.8748987986462, 655.919377352766, 636.703330836535, 610.6728996781723, 585.170540096171, 578.7681641359205, 2236.1597882113642, 1856.316111954987, 8376.306843293916, 5988.741152568829, 5384.5299233671285, 4441.082428539807, 3755.3469506364418, 1990.0726770226797, 1817.5809337296182, 1614.831370630343, 1614.4553551674633, 1364.6698341693061, 1207.571510535899, 1215.4328900520204, 1240.336743508965, 1195.817816712983, 1100.2328293297523, 1066.8640224972755, 1031.7246518300535, 939.4096068770585, 943.1022423539139, 911.8417706777749, 888.2237933142876, 870.8570067922137, 837.8632634959251, 826.3933373663954, 733.1746297846016, 679.2376784374977, 672.7193556505664, 619.0751993866053, 625.5103685631018, 622.1527772173711, 934.3792779293537, 1856.316111954987, 9949.98975919897, 5019.634958193374, 4726.488219074418, 3831.566025173301, 2211.767772936471, 2127.452353685955, 2003.7363659822513, 1976.5786440378731, 1922.0750397709373, 1692.9201562806697, 1627.996530727021, 1544.8864952070517, 1171.8784953516958, 1078.4783367895104, 995.7908703306471, 962.7708265869976, 842.514630052667, 830.6867432332093, 800.7881082703606, 756.929690158035, 762.2147985481539, 727.700126251559, 718.3874891327307, 664.8419454073464, 623.6427691159196, 594.6764584354092, 584.2221702996429, 581.1714464383656, 568.2123433796626, 543.758414913134, 1664.0163838904803, 3606.7096385156283, 2236.1597882113642, 1196.5905480280867], \"Category\": [\"Default\", \"Default\", \"Default\", \"Default\", \"Default\", \"Default\", \"Default\", \"Default\", \"Default\", \"Default\", \"Default\", \"Default\", \"Default\", \"Default\", \"Default\", \"Default\", \"Default\", \"Default\", \"Default\", \"Default\", \"Default\", \"Default\", \"Default\", \"Default\", \"Default\", \"Default\", \"Default\", \"Default\", \"Default\", \"Default\", \"Topic1\", \"Topic1\", \"Topic1\", \"Topic1\", \"Topic1\", \"Topic1\", \"Topic1\", \"Topic1\", \"Topic1\", \"Topic1\", \"Topic1\", \"Topic1\", \"Topic1\", \"Topic1\", \"Topic1\", \"Topic1\", \"Topic1\", \"Topic1\", \"Topic1\", \"Topic1\", \"Topic1\", \"Topic1\", \"Topic1\", \"Topic1\", \"Topic1\", \"Topic1\", \"Topic1\", \"Topic1\", \"Topic1\", \"Topic1\", \"Topic1\", \"Topic2\", \"Topic2\", \"Topic2\", \"Topic2\", \"Topic2\", \"Topic2\", \"Topic2\", \"Topic2\", \"Topic2\", \"Topic2\", \"Topic2\", \"Topic2\", \"Topic2\", \"Topic2\", \"Topic2\", \"Topic2\", \"Topic2\", \"Topic2\", \"Topic2\", \"Topic2\", \"Topic2\", \"Topic2\", \"Topic2\", \"Topic2\", \"Topic2\", \"Topic2\", \"Topic2\", \"Topic2\", \"Topic2\", \"Topic2\", \"Topic2\", \"Topic2\", \"Topic3\", \"Topic3\", \"Topic3\", \"Topic3\", \"Topic3\", \"Topic3\", \"Topic3\", \"Topic3\", \"Topic3\", \"Topic3\", \"Topic3\", \"Topic3\", \"Topic3\", \"Topic3\", \"Topic3\", \"Topic3\", \"Topic3\", \"Topic3\", \"Topic3\", \"Topic3\", \"Topic3\", \"Topic3\", \"Topic3\", \"Topic3\", \"Topic3\", \"Topic3\", \"Topic3\", \"Topic3\", \"Topic3\", \"Topic3\", \"Topic3\", \"Topic3\", \"Topic4\", \"Topic4\", \"Topic4\", \"Topic4\", \"Topic4\", \"Topic4\", \"Topic4\", \"Topic4\", \"Topic4\", \"Topic4\", \"Topic4\", \"Topic4\", \"Topic4\", \"Topic4\", \"Topic4\", \"Topic4\", \"Topic4\", \"Topic4\", \"Topic4\", \"Topic4\", \"Topic4\", \"Topic4\", \"Topic4\", \"Topic4\", \"Topic4\", \"Topic4\", \"Topic4\", \"Topic4\", \"Topic4\", \"Topic4\", \"Topic4\", \"Topic4\", \"Topic4\", \"Topic4\"], \"logprob\": [30.0, 29.0, 28.0, 27.0, 26.0, 25.0, 24.0, 23.0, 22.0, 21.0, 20.0, 19.0, 18.0, 17.0, 16.0, 15.0, 14.0, 13.0, 12.0, 11.0, 10.0, 9.0, 8.0, 7.0, 6.0, 5.0, 4.0, 3.0, 2.0, 1.0, -2.6413, -3.111, -3.1634, -3.3866, -3.7858, -4.0168, -4.0277, -4.2126, -4.2435, -4.2347, -4.441, -4.5094, -4.4983, -4.584, -4.5572, -4.6385, -4.6491, -4.7581, -4.7787, -4.7375, -4.8142, -4.8099, -4.7627, -4.8348, -4.8649, -4.9982, -5.0148, -5.0644, -5.0881, -5.0918, -4.4797, -1.9806, -2.8368, -3.0619, -3.4532, -3.509, -3.7074, -3.8787, -3.8792, -4.1939, -4.2053, -4.3716, -4.4483, -4.5202, -4.4822, -4.5421, -4.5606, -4.5529, -4.5792, -4.6062, -4.6904, -4.7251, -4.7487, -4.8226, -5.0076, -4.9982, -5.1637, -5.1935, -5.2353, -5.278, -5.289, -4.3633, -5.1226, -2.5862, -2.9218, -3.0282, -3.2208, -3.3886, -4.0238, -4.1145, -4.2328, -4.2331, -4.4013, -4.5236, -4.5172, -4.4969, -4.5334, -4.6168, -4.6476, -4.6811, -4.775, -4.7711, -4.8048, -4.831, -4.8508, -4.8895, -4.9033, -5.0231, -5.0996, -5.1092, -5.1924, -5.1821, -5.1876, -4.7813, -4.5519, -2.381, -3.0653, -3.1255, -3.3355, -3.8851, -3.924, -3.9839, -3.9976, -4.0256, -4.1526, -4.1917, -4.2441, -4.5206, -4.6037, -4.6836, -4.7173, -4.8509, -4.865, -4.9017, -4.9581, -4.9512, -4.9975, -5.0104, -5.088, -5.1521, -5.1997, -5.2174, -5.2227, -5.2452, -5.2893, -4.1959, -3.8699, -4.9308, -5.0718], \"loglift\": [30.0, 29.0, 28.0, 27.0, 26.0, 25.0, 24.0, 23.0, 22.0, 21.0, 20.0, 19.0, 18.0, 17.0, 16.0, 15.0, 14.0, 13.0, 12.0, 11.0, 10.0, 9.0, 8.0, 7.0, 6.0, 5.0, 4.0, 3.0, 2.0, 1.0, 1.3287, 1.3286, 1.3286, 1.3286, 1.3284, 1.3284, 1.3284, 1.3283, 1.3283, 1.3283, 1.3282, 1.3281, 1.3281, 1.3281, 1.3281, 1.3281, 1.328, 1.328, 1.3279, 1.3279, 1.3279, 1.3279, 1.3279, 1.3279, 1.3279, 1.3277, 1.3277, 1.3277, 1.3277, 1.3276, 0.3544, 1.376, 1.3759, 1.3759, 1.3758, 1.3758, 1.3758, 1.3757, 1.3757, 1.3756, 1.3756, 1.3755, 1.3755, 1.3754, 1.3754, 1.3754, 1.3754, 1.3754, 1.3754, 1.3754, 1.3753, 1.3753, 1.3753, 1.3752, 1.375, 1.375, 1.3748, 1.3748, 1.3747, 1.3747, 1.3747, 0.9488, 0.3757, 1.4052, 1.4052, 1.4051, 1.4051, 1.4051, 1.4049, 1.4048, 1.4048, 1.4048, 1.4047, 1.4046, 1.4046, 1.4046, 1.4046, 1.4045, 1.4045, 1.4045, 1.4044, 1.4044, 1.4044, 1.4043, 1.4043, 1.4043, 1.4043, 1.4041, 1.404, 1.404, 1.4039, 1.4039, 1.4039, 1.4034, 0.9464, 1.4382, 1.4382, 1.4381, 1.4381, 1.4379, 1.4379, 1.4379, 1.4379, 1.4379, 1.4378, 1.4378, 1.4378, 1.4376, 1.4376, 1.4375, 1.4375, 1.4373, 1.4373, 1.4373, 1.4372, 1.4372, 1.4372, 1.4372, 1.4371, 1.4369, 1.4369, 1.4369, 1.4369, 1.4369, 1.4368, 1.4117, 0.9642, 0.3813, 0.8656]}, \"token.table\": {\"Topic\": [3, 1, 1, 2, 3, 4, 2, 4, 2, 2, 4, 1, 4, 2, 3, 4, 4, 3, 1, 1, 4, 1, 2, 3, 4, 3, 1, 2, 2, 1, 1, 2, 2, 4, 1, 4, 1, 4, 4, 1, 2, 1, 4, 4, 2, 1, 3, 1, 4, 3, 2, 3, 3, 4, 3, 4, 4, 1, 2, 4, 3, 2, 1, 2, 2, 4, 3, 3, 1, 1, 4, 4, 3, 2, 2, 4, 2, 2, 4, 4, 3, 2, 4, 3, 2, 1, 3, 3, 1, 4, 3, 1, 3, 4, 2, 4, 4, 3, 2, 3, 3, 1, 1, 3, 1, 1, 1, 3, 1, 4, 2, 2, 1, 1, 4, 1, 4, 3, 2, 3, 4, 3, 2, 2, 2, 1, 1, 2, 3, 1, 3, 2, 3, 3, 2], \"Freq\": [0.9991901287520663, 0.9998873583264628, 0.0010702292137899998, 0.0010702292137899998, 0.9985238564660699, 0.9994261745378693, 0.6524578465687416, 0.3474706969046691, 0.9985983378681744, 0.9996638995246748, 0.9996325035594739, 0.9997907545085971, 0.999389173749262, 0.9979996599008921, 0.999316102585567, 0.9997072496762937, 0.9979843358693125, 0.9997179512174147, 0.9987954950712739, 0.9987884350150932, 0.9987336156914248, 0.007812423078194652, 0.007812423078194652, 0.010817201185192596, 0.9735481066673336, 0.9996438387873461, 0.9992804424544639, 0.9995412018226166, 0.9986727602112196, 0.9988076622918548, 0.9988386477218079, 0.9997531631658917, 0.9993550485204327, 0.9998735051057175, 0.9994350122624067, 0.9993878790843761, 0.9995175145755626, 0.9984062254492201, 0.9979080384795803, 0.9995850162001939, 0.9986125178537297, 0.9989721727222959, 0.9998967057460446, 0.9989693312457855, 0.9999417137296059, 0.9994040869272155, 0.9989306749619673, 0.9990530371200284, 0.9992503528691922, 0.9990159041202752, 0.3679330236921209, 0.6318966863702165, 0.9994609860056546, 0.9986052355378168, 0.9995267273772918, 0.9994406879290907, 0.9996528691005152, 0.99912675900955, 0.9998103300827919, 0.9994606126378975, 0.998263216831056, 0.9994702573510361, 0.9994300946092072, 0.9990065498168906, 0.9992294010390835, 0.9995564706557442, 0.999524031295256, 0.9989222737164238, 0.9987416277833723, 0.43540374011693345, 0.5641027343165644, 0.9991732825414592, 0.9999076115626592, 0.9996594141317491, 0.9988981012936273, 0.9987717615385904, 0.9994125324049579, 0.9998237697881575, 0.9978663902785855, 0.9992057867226836, 0.9990768456712076, 0.9999388337874201, 0.9988624765184265, 0.998177841900136, 0.9996044737474078, 0.9995681177288324, 0.9983978853919881, 0.9997562692075134, 0.37735225077894846, 0.6224509941210429, 0.9986222016078615, 0.9998213878773612, 0.9995091602726649, 0.9990158341985587, 0.9995614930218228, 0.9990378918096862, 0.9991993664891882, 0.9998762423437668, 0.998895355493726, 0.9995639741449737, 0.9988794832358316, 0.99916155971439, 0.9995543976584544, 0.9988312588981203, 0.9992626327796106, 0.9989609190322627, 0.9990415429392038, 0.9981471155324148, 0.9999092289415407, 0.9997873730590622, 0.9993047702301264, 0.9988694570659878, 0.9997789661041423, 0.9987499139949528, 0.9994564679986495, 0.9984218973911151, 0.9999005266112907, 0.999297630594783, 0.9995342678708928, 0.9998439833546735, 0.999852273151609, 0.9991840765737038, 0.9996829416182321, 0.9990379841755203, 0.9989155617623091, 0.9993938029054241, 0.999445074403703, 0.9992321213368703, 0.9989696845135289, 0.9990443232061058, 0.9996803808189019, 0.9997293307261648, 0.9994851656677821, 0.9999015840983948, 0.9995353692678364], \"Term\": [\"airline\", \"airport\", \"anniversary\", \"anniversary\", \"anniversary\", \"area\", \"arrival\", \"arrival\", \"baby\", \"bag\", \"baggage\", \"birthday\", \"bit\", \"board\", \"book\", \"bus\", \"call\", \"car\", \"case\", \"chance\", \"change\", \"charade\", \"charade\", \"charade\", \"charade\", \"charge\", \"check\", \"child\", \"congratulation\", \"contact\", \"country\", \"customer\", \"daughter\", \"day\", \"delay\", \"departure\", \"difference\", \"dinner\", \"door\", \"drop\", \"evening\", \"experience\", \"family\", \"fee\", \"flight\", \"fly\", \"food\", \"form\", \"friend\", \"game\", \"gate\", \"gate\", \"guy\", \"hand\", \"help\", \"holiday\", \"home\", \"hope\", \"hour\", \"husband\", \"idea\", \"info\", \"information\", \"issue\", \"joke\", \"kid\", \"land\", \"light\", \"line\", \"lot\", \"lot\", \"lounge\", \"love\", \"luggage\", \"man\", \"message\", \"min\", \"minute\", \"moment\", \"money\", \"month\", \"morning\", \"movie\", \"need\", \"night\", \"number\", \"parent\", \"parking\", \"passenger\", \"passenger\", \"passport\", \"people\", \"perfume\", \"person\", \"phone\", \"pick\", \"place\", \"plane\", \"pm\", \"point\", \"problem\", \"question\", \"queue\", \"reason\", \"refund\", \"reply\", \"response\", \"restaurant\", \"security\", \"service\", \"shop\", \"son\", \"staff\", \"team\", \"terminal\", \"test\", \"thank\", \"thing\", \"ticket\", \"time\", \"today\", \"toilet\", \"tomorrow\", \"tonight\", \"train\", \"travel\", \"tree\", \"trip\", \"use\", \"way\", \"website\", \"week\", \"work\", \"year\", \"yesterday\"]}, \"R\": 30, \"lambda.step\": 0.01, \"plot.opts\": {\"xlab\": \"PC1\", \"ylab\": \"PC2\"}, \"topic.order\": [3, 2, 1, 4]};\n",
       "\n",
       "function LDAvis_load_lib(url, callback){\n",
       "  var s = document.createElement('script');\n",
       "  s.src = url;\n",
       "  s.async = true;\n",
       "  s.onreadystatechange = s.onload = callback;\n",
       "  s.onerror = function(){console.warn(\"failed to load library \" + url);};\n",
       "  document.getElementsByTagName(\"head\")[0].appendChild(s);\n",
       "}\n",
       "\n",
       "if(typeof(LDAvis) !== \"undefined\"){\n",
       "   // already loaded: just create the visualization\n",
       "   !function(LDAvis){\n",
       "       new LDAvis(\"#\" + \"ldavis_el1635616899839831685337405135\", ldavis_el1635616899839831685337405135_data);\n",
       "   }(LDAvis);\n",
       "}else if(typeof define === \"function\" && define.amd){\n",
       "   // require.js is available: use it to load d3/LDAvis\n",
       "   require.config({paths: {d3: \"https://d3js.org/d3.v5\"}});\n",
       "   require([\"d3\"], function(d3){\n",
       "      window.d3 = d3;\n",
       "      LDAvis_load_lib(\"https://cdn.jsdelivr.net/gh/bmabey/pyLDAvis@3.3.1/pyLDAvis/js/ldavis.v3.0.0.js\", function(){\n",
       "        new LDAvis(\"#\" + \"ldavis_el1635616899839831685337405135\", ldavis_el1635616899839831685337405135_data);\n",
       "      });\n",
       "    });\n",
       "}else{\n",
       "    // require.js not available: dynamically load d3 & LDAvis\n",
       "    LDAvis_load_lib(\"https://d3js.org/d3.v5.js\", function(){\n",
       "         LDAvis_load_lib(\"https://cdn.jsdelivr.net/gh/bmabey/pyLDAvis@3.3.1/pyLDAvis/js/ldavis.v3.0.0.js\", function(){\n",
       "                 new LDAvis(\"#\" + \"ldavis_el1635616899839831685337405135\", ldavis_el1635616899839831685337405135_data);\n",
       "            })\n",
       "         });\n",
       "}\n",
       "</script>"
      ],
      "text/plain": [
       "PreparedData(topic_coordinates=              x         y  topics  cluster       Freq\n",
       "topic                                                \n",
       "2      0.235805 -0.312080       1        1  26.480806\n",
       "1      0.302702  0.233669       2        1  25.257048\n",
       "0     -0.236299  0.314230       3        1  24.529357\n",
       "3     -0.302208 -0.235820       4        1  23.732788, topic_info=           Term          Freq         Total Category  logprob  loglift\n",
       "10       flight  15802.000000  15802.000000  Default  30.0000  30.0000\n",
       "33        thank   9949.000000   9949.000000  Default  29.0000  29.0000\n",
       "27         time   8376.000000   8376.000000  Default  28.0000  28.0000\n",
       "9       airport   8557.000000   8557.000000  Default  27.0000  27.0000\n",
       "11         hour   6713.000000   6713.000000  Default  26.0000  26.0000\n",
       "...         ...           ...           ...      ...      ...      ...\n",
       "445        hand    542.931430    543.758415   Topic4  -5.2893   1.4368\n",
       "5115    charade   1620.315712   1664.016384   Topic4  -4.1959   1.4117\n",
       "1     passenger   2244.859303   3606.709639   Topic4  -3.8699   0.9642\n",
       "16      arrival    777.041056   2236.159788   Topic4  -4.9308   0.3813\n",
       "201         lot    674.883940   1196.590548   Topic4  -5.0718   0.8656\n",
       "\n",
       "[159 rows x 6 columns], token_table=      Topic      Freq         Term\n",
       "term                              \n",
       "132       3  0.999190      airline\n",
       "9         1  0.999887      airport\n",
       "1433      1  0.001070  anniversary\n",
       "1433      2  0.001070  anniversary\n",
       "1433      3  0.998524  anniversary\n",
       "...     ...       ...          ...\n",
       "248       3  0.999680      website\n",
       "38        2  0.999729         week\n",
       "43        3  0.999485         work\n",
       "179       3  0.999902         year\n",
       "44        2  0.999535    yesterday\n",
       "\n",
       "[135 rows x 3 columns], R=30, lambda_step=0.01, plot_opts={'xlab': 'PC1', 'ylab': 'PC2'}, topic_order=[3, 2, 1, 4])"
      ]
     },
     "execution_count": 23,
     "metadata": {},
     "output_type": "execute_result"
    }
   ],
   "source": [
    "pyLDAvis.enable_notebook()\n",
    "vis_grams = pyLDAvis.gensim_models.prepare(lda_model_grams, corpus, id2word, mds=\"mmds\", R=30)\n",
    "vis_grams"
   ]
  },
  {
   "cell_type": "markdown",
   "id": "cb7b67b6",
   "metadata": {},
   "source": [
    "## Topic distribution across documents"
   ]
  },
  {
   "cell_type": "markdown",
   "id": "f021e230",
   "metadata": {},
   "source": [
    "In LDA models, each document is composed of multiple topics. But, typically only one of the topics is dominant. The below code extracts this dominant topic for each sentence and shows the weight of the topic and the keywords in a nicely formatted output."
   ]
  },
  {
   "cell_type": "code",
   "execution_count": 24,
   "id": "d67141e2",
   "metadata": {},
   "outputs": [],
   "source": [
    "def topic_dist(ldamodel,corpus,texts):\n",
    "\n",
    "    #Init Output\n",
    "    sent_topics = pd.DataFrame()\n",
    "    \n",
    "    #Get main topic in each document\n",
    "    for i, row_list in enumerate(ldamodel[corpus]):\n",
    "        row = row_list[0] if ldamodel.per_word_topics else row_list\n",
    "        row = sorted(row, key=lambda x: (x[1]), reverse = True)\n",
    "        \n",
    "        for j, (topic_num, prop_topic) in enumerate(row):\n",
    "            if j == 0: # dominant topic\n",
    "                wp = ldamodel.show_topic(topic_num)\n",
    "                topic_keywords = \", \".join([word for word, prop in wp])\n",
    "                sent_topics = sent_topics.append(pd.Series([int(topic_num+1), round(prop_topic,4), topic_keywords]), ignore_index=True)\n",
    "            else:\n",
    "                break\n",
    "        \n",
    "    sent_topics.columns= [\"Dominant_Topic\", \"Percentage_Contribution\", \"Topic_Keywords\"]\n",
    "    \n",
    "    ## Add original text to the end of the output\n",
    "    contents = pd.Series(texts)\n",
    "    sent_topics= pd.concat([sent_topics, contents], axis=1)\n",
    "    return(sent_topics)"
   ]
  },
  {
   "cell_type": "code",
   "execution_count": 25,
   "id": "d0a94568",
   "metadata": {},
   "outputs": [],
   "source": [
    "df_sent_topics = topic_dist(ldamodel=lda_model_grams, corpus=corpus, texts = data_bigrams_trigrams)\n",
    "df_topic_sents_keywords = topic_dist(ldamodel=lda_model_grams, corpus=corpus, texts=data_bigrams_trigrams)"
   ]
  },
  {
   "cell_type": "code",
   "execution_count": 26,
   "id": "ab827a51",
   "metadata": {},
   "outputs": [
    {
     "data": {
      "text/html": [
       "<div>\n",
       "<style scoped>\n",
       "    .dataframe tbody tr th:only-of-type {\n",
       "        vertical-align: middle;\n",
       "    }\n",
       "\n",
       "    .dataframe tbody tr th {\n",
       "        vertical-align: top;\n",
       "    }\n",
       "\n",
       "    .dataframe thead th {\n",
       "        text-align: right;\n",
       "    }\n",
       "</style>\n",
       "<table border=\"1\" class=\"dataframe\">\n",
       "  <thead>\n",
       "    <tr style=\"text-align: right;\">\n",
       "      <th></th>\n",
       "      <th>Dominant_Topic</th>\n",
       "      <th>Num Documents</th>\n",
       "    </tr>\n",
       "  </thead>\n",
       "  <tbody>\n",
       "    <tr>\n",
       "      <th>0</th>\n",
       "      <td>1.0</td>\n",
       "      <td>136442</td>\n",
       "    </tr>\n",
       "    <tr>\n",
       "      <th>1</th>\n",
       "      <td>2.0</td>\n",
       "      <td>46642</td>\n",
       "    </tr>\n",
       "    <tr>\n",
       "      <th>3</th>\n",
       "      <td>3.0</td>\n",
       "      <td>44165</td>\n",
       "    </tr>\n",
       "    <tr>\n",
       "      <th>2</th>\n",
       "      <td>4.0</td>\n",
       "      <td>45939</td>\n",
       "    </tr>\n",
       "  </tbody>\n",
       "</table>\n",
       "</div>"
      ],
      "text/plain": [
       "   Dominant_Topic  Num Documents\n",
       "0             1.0         136442\n",
       "1             2.0          46642\n",
       "3             3.0          44165\n",
       "2             4.0          45939"
      ]
     },
     "execution_count": 26,
     "metadata": {},
     "output_type": "execute_result"
    }
   ],
   "source": [
    "df_topic_distribution = df_sent_topics[\"Dominant_Topic\"].value_counts().reset_index(name=\"Num Documents\")\n",
    "df_topic_distribution.columns = [\"Dominant_Topic\", \"Num Documents\"]\n",
    "df_topic_distribution.sort_values(\"Dominant_Topic\")"
   ]
  },
  {
   "cell_type": "code",
   "execution_count": 27,
   "id": "94eaf04b",
   "metadata": {},
   "outputs": [
    {
     "data": {
      "text/html": [
       "<div>\n",
       "<style scoped>\n",
       "    .dataframe tbody tr th:only-of-type {\n",
       "        vertical-align: middle;\n",
       "    }\n",
       "\n",
       "    .dataframe tbody tr th {\n",
       "        vertical-align: top;\n",
       "    }\n",
       "\n",
       "    .dataframe thead th {\n",
       "        text-align: right;\n",
       "    }\n",
       "</style>\n",
       "<table border=\"1\" class=\"dataframe\">\n",
       "  <thead>\n",
       "    <tr style=\"text-align: right;\">\n",
       "      <th></th>\n",
       "      <th>Document_No</th>\n",
       "      <th>Dominant_Topic</th>\n",
       "      <th>Topic_Perc_Contrib</th>\n",
       "      <th>Keywords</th>\n",
       "      <th>Text</th>\n",
       "    </tr>\n",
       "  </thead>\n",
       "  <tbody>\n",
       "    <tr>\n",
       "      <th>0</th>\n",
       "      <td>0</td>\n",
       "      <td>4.0</td>\n",
       "      <td>0.5613</td>\n",
       "      <td>thank, day, family, today, passenger, home, se...</td>\n",
       "      <td>[update, passenger, coach]</td>\n",
       "    </tr>\n",
       "    <tr>\n",
       "      <th>1</th>\n",
       "      <td>1</td>\n",
       "      <td>1.0</td>\n",
       "      <td>0.8194</td>\n",
       "      <td>time, plane, year, parking, love, guy, website...</td>\n",
       "      <td>[lad, rally, troop, pal]</td>\n",
       "    </tr>\n",
       "    <tr>\n",
       "      <th>2</th>\n",
       "      <td>2</td>\n",
       "      <td>1.0</td>\n",
       "      <td>0.2500</td>\n",
       "      <td>time, plane, year, parking, love, guy, website...</td>\n",
       "      <td>[]</td>\n",
       "    </tr>\n",
       "    <tr>\n",
       "      <th>3</th>\n",
       "      <td>3</td>\n",
       "      <td>4.0</td>\n",
       "      <td>0.6250</td>\n",
       "      <td>thank, day, family, today, passenger, home, se...</td>\n",
       "      <td>[service]</td>\n",
       "    </tr>\n",
       "    <tr>\n",
       "      <th>4</th>\n",
       "      <td>4</td>\n",
       "      <td>1.0</td>\n",
       "      <td>0.2500</td>\n",
       "      <td>time, plane, year, parking, love, guy, website...</td>\n",
       "      <td>[]</td>\n",
       "    </tr>\n",
       "    <tr>\n",
       "      <th>5</th>\n",
       "      <td>5</td>\n",
       "      <td>4.0</td>\n",
       "      <td>0.7495</td>\n",
       "      <td>thank, day, family, today, passenger, home, se...</td>\n",
       "      <td>[service, hospitality]</td>\n",
       "    </tr>\n",
       "    <tr>\n",
       "      <th>6</th>\n",
       "      <td>6</td>\n",
       "      <td>2.0</td>\n",
       "      <td>0.5417</td>\n",
       "      <td>flight, hour, morning, week, bag, minute, lugg...</td>\n",
       "      <td>[hour, flight, problem, airport, turn]</td>\n",
       "    </tr>\n",
       "    <tr>\n",
       "      <th>7</th>\n",
       "      <td>7</td>\n",
       "      <td>1.0</td>\n",
       "      <td>0.2500</td>\n",
       "      <td>time, plane, year, parking, love, guy, website...</td>\n",
       "      <td>[]</td>\n",
       "    </tr>\n",
       "    <tr>\n",
       "      <th>8</th>\n",
       "      <td>8</td>\n",
       "      <td>3.0</td>\n",
       "      <td>0.6250</td>\n",
       "      <td>airport, people, security, staff, birthday, tr...</td>\n",
       "      <td>[queue]</td>\n",
       "    </tr>\n",
       "    <tr>\n",
       "      <th>9</th>\n",
       "      <td>9</td>\n",
       "      <td>1.0</td>\n",
       "      <td>0.2500</td>\n",
       "      <td>time, plane, year, parking, love, guy, website...</td>\n",
       "      <td>[]</td>\n",
       "    </tr>\n",
       "  </tbody>\n",
       "</table>\n",
       "</div>"
      ],
      "text/plain": [
       "   Document_No  Dominant_Topic  Topic_Perc_Contrib  \\\n",
       "0            0             4.0              0.5613   \n",
       "1            1             1.0              0.8194   \n",
       "2            2             1.0              0.2500   \n",
       "3            3             4.0              0.6250   \n",
       "4            4             1.0              0.2500   \n",
       "5            5             4.0              0.7495   \n",
       "6            6             2.0              0.5417   \n",
       "7            7             1.0              0.2500   \n",
       "8            8             3.0              0.6250   \n",
       "9            9             1.0              0.2500   \n",
       "\n",
       "                                            Keywords  \\\n",
       "0  thank, day, family, today, passenger, home, se...   \n",
       "1  time, plane, year, parking, love, guy, website...   \n",
       "2  time, plane, year, parking, love, guy, website...   \n",
       "3  thank, day, family, today, passenger, home, se...   \n",
       "4  time, plane, year, parking, love, guy, website...   \n",
       "5  thank, day, family, today, passenger, home, se...   \n",
       "6  flight, hour, morning, week, bag, minute, lugg...   \n",
       "7  time, plane, year, parking, love, guy, website...   \n",
       "8  airport, people, security, staff, birthday, tr...   \n",
       "9  time, plane, year, parking, love, guy, website...   \n",
       "\n",
       "                                     Text  \n",
       "0              [update, passenger, coach]  \n",
       "1                [lad, rally, troop, pal]  \n",
       "2                                      []  \n",
       "3                               [service]  \n",
       "4                                      []  \n",
       "5                  [service, hospitality]  \n",
       "6  [hour, flight, problem, airport, turn]  \n",
       "7                                      []  \n",
       "8                                 [queue]  \n",
       "9                                      []  "
      ]
     },
     "execution_count": 27,
     "metadata": {},
     "output_type": "execute_result"
    }
   ],
   "source": [
    "df_dominant_topic = df_topic_sents_keywords.reset_index()\n",
    "df_dominant_topic.columns = ['Document_No', 'Dominant_Topic', 'Topic_Perc_Contrib', 'Keywords', 'Text']\n",
    "df_dominant_topic.head(10)"
   ]
  },
  {
   "cell_type": "markdown",
   "id": "f68ef52c",
   "metadata": {},
   "source": [
    "## The most representative sentence for each topic"
   ]
  },
  {
   "cell_type": "code",
   "execution_count": 28,
   "id": "14ae0d53",
   "metadata": {},
   "outputs": [
    {
     "data": {
      "text/html": [
       "<div>\n",
       "<style scoped>\n",
       "    .dataframe tbody tr th:only-of-type {\n",
       "        vertical-align: middle;\n",
       "    }\n",
       "\n",
       "    .dataframe tbody tr th {\n",
       "        vertical-align: top;\n",
       "    }\n",
       "\n",
       "    .dataframe thead th {\n",
       "        text-align: right;\n",
       "    }\n",
       "</style>\n",
       "<table border=\"1\" class=\"dataframe\">\n",
       "  <thead>\n",
       "    <tr style=\"text-align: right;\">\n",
       "      <th></th>\n",
       "      <th>Topic_Num</th>\n",
       "      <th>Topic_Perc_Contrib</th>\n",
       "      <th>Keywords</th>\n",
       "      <th>Representative Text</th>\n",
       "    </tr>\n",
       "  </thead>\n",
       "  <tbody>\n",
       "    <tr>\n",
       "      <th>0</th>\n",
       "      <td>1.0</td>\n",
       "      <td>0.9166</td>\n",
       "      <td>time, plane, year, parking, love, guy, website, work, car, perfume</td>\n",
       "      <td>[boy, girl, girl, boy, attempt, girl, buying, victim]</td>\n",
       "    </tr>\n",
       "    <tr>\n",
       "      <th>1</th>\n",
       "      <td>2.0</td>\n",
       "      <td>0.9062</td>\n",
       "      <td>flight, hour, morning, week, bag, minute, luggage, tomorrow, night, min</td>\n",
       "      <td>[story, flight, arrive, dublin, tomorrow, flight, morning]</td>\n",
       "    </tr>\n",
       "    <tr>\n",
       "      <th>2</th>\n",
       "      <td>3.0</td>\n",
       "      <td>0.8929</td>\n",
       "      <td>airport, people, security, staff, birthday, travel, drop, number, delay, queue</td>\n",
       "      <td>[picture, travel, song, way, song, tweet]</td>\n",
       "    </tr>\n",
       "    <tr>\n",
       "      <th>3</th>\n",
       "      <td>4.0</td>\n",
       "      <td>0.9003</td>\n",
       "      <td>thank, day, family, today, passenger, home, service, baggage, bus, holiday</td>\n",
       "      <td>[post_box, north, terminal, place, post, letter, thank]</td>\n",
       "    </tr>\n",
       "  </tbody>\n",
       "</table>\n",
       "</div>"
      ],
      "text/plain": [
       "   Topic_Num  Topic_Perc_Contrib  \\\n",
       "0        1.0              0.9166   \n",
       "1        2.0              0.9062   \n",
       "2        3.0              0.8929   \n",
       "3        4.0              0.9003   \n",
       "\n",
       "                                                                         Keywords  \\\n",
       "0              time, plane, year, parking, love, guy, website, work, car, perfume   \n",
       "1         flight, hour, morning, week, bag, minute, luggage, tomorrow, night, min   \n",
       "2  airport, people, security, staff, birthday, travel, drop, number, delay, queue   \n",
       "3      thank, day, family, today, passenger, home, service, baggage, bus, holiday   \n",
       "\n",
       "                                          Representative Text  \n",
       "0       [boy, girl, girl, boy, attempt, girl, buying, victim]  \n",
       "1  [story, flight, arrive, dublin, tomorrow, flight, morning]  \n",
       "2                   [picture, travel, song, way, song, tweet]  \n",
       "3     [post_box, north, terminal, place, post, letter, thank]  "
      ]
     },
     "execution_count": 28,
     "metadata": {},
     "output_type": "execute_result"
    }
   ],
   "source": [
    "# Display setting to show more characters in column\n",
    "pd.options.display.max_colwidth = 100\n",
    "\n",
    "sent_topics_sorteddf_mallet = pd.DataFrame()\n",
    "sent_topics_outdf_grpd = df_topic_sents_keywords.groupby('Dominant_Topic')\n",
    "\n",
    "for i, grp in sent_topics_outdf_grpd:\n",
    "    sent_topics_sorteddf_mallet = pd.concat([sent_topics_sorteddf_mallet, \n",
    "                                             grp.sort_values(['Percentage_Contribution'], ascending=False).head(1)], \n",
    "                                            axis=0)\n",
    "\n",
    "# Reset Index    \n",
    "sent_topics_sorteddf_mallet.reset_index(drop=True, inplace=True)\n",
    "\n",
    "# Format\n",
    "sent_topics_sorteddf_mallet.columns = ['Topic_Num', \"Topic_Perc_Contrib\", \"Keywords\", \"Representative Text\"]\n",
    "\n",
    "# Show\n",
    "sent_topics_sorteddf_mallet.head(10)"
   ]
  },
  {
   "cell_type": "markdown",
   "id": "10b50af5",
   "metadata": {},
   "source": [
    "## Word Clouds of Top N Keywords in Each Topic\n",
    "\n",
    "pyLDAvis to Wordcloud the topic number change (try to solve but couldn't understand how), so:\n",
    "\n",
    "- Topic 1 = Topic 1(cloud)\n",
    "- Topic 2 = Topic 4(cloud)\n",
    "- Topic 3 = Topic 2(cloud)\n",
    "- Topic 4 = Topic 3(cloud)"
   ]
  },
  {
   "cell_type": "code",
   "execution_count": 29,
   "id": "798e668f",
   "metadata": {},
   "outputs": [
    {
     "data": {
      "image/png": "[encoded data removed]",
      "text/plain": [
       "<Figure size 1440x720 with 4 Axes>"
      ]
     },
     "metadata": {
      "needs_background": "light"
     },
     "output_type": "display_data"
    }
   ],
   "source": [
    "# 1. Wordcloud of Top N words in each topic\n",
    "from matplotlib import pyplot as plt\n",
    "from wordcloud import WordCloud, STOPWORDS\n",
    "import matplotlib.colors as mcolors\n",
    "\n",
    "cols = [color for name, color in mcolors.TABLEAU_COLORS.items()]  # more colors: 'mcolors.XKCD_COLORS'\n",
    "\n",
    "cloud = WordCloud(stopwords=stop_words,\n",
    "                  background_color='white',\n",
    "                  width=2500,\n",
    "                  height=2800,\n",
    "                  max_words=8,\n",
    "                  colormap='tab10',\n",
    "                  color_func=lambda *args, **kwargs: cols[i],\n",
    "                  prefer_horizontal=1.0)\n",
    "\n",
    "topics = lda_model_grams.show_topics(formatted=False)\n",
    "\n",
    "fig, axes = plt.subplots(2, 2, figsize=(20,10), sharex=True, sharey=True)\n",
    "\n",
    "for i, ax in enumerate(axes.flatten()):\n",
    "    fig.add_subplot(ax)\n",
    "    topic_words = dict(topics[i][1])\n",
    "    cloud.generate_from_frequencies(topic_words, max_font_size=300)\n",
    "    plt.gca().imshow(cloud)\n",
    "    plt.gca().set_title('Topic ' + str(i+1), fontdict=dict(size=16))\n",
    "    plt.gca().axis('off')\n",
    "\n",
    "\n",
    "plt.subplots_adjust(wspace=0, hspace=0)\n",
    "plt.axis('off')\n",
    "plt.margins(x=0, y=0)\n",
    "plt.tight_layout()\n",
    "plt.show()"
   ]
  },
  {
   "cell_type": "code",
   "execution_count": null,
   "id": "e10c9a91",
   "metadata": {},
   "outputs": [],
   "source": []
  }
 ],
 "metadata": {
  "kernelspec": {
   "display_name": "Python 3",
   "language": "python",
   "name": "python3"
  },
  "language_info": {
   "codemirror_mode": {
    "name": "ipython",
    "version": 3
   },
   "file_extension": ".py",
   "mimetype": "text/x-python",
   "name": "python",
   "nbconvert_exporter": "python",
   "pygments_lexer": "ipython3",
   "version": "3.8.10"
  }
 },
 "nbformat": 4,
 "nbformat_minor": 5
}
