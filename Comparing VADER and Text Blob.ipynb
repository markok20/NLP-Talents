{
 "cells": [
  {
   "cell_type": "markdown",
   "id": "4068c3a6",
   "metadata": {},
   "source": [
    "# Comparing VADER and Text Blob"
   ]
  },
  {
   "cell_type": "markdown",
   "id": "c6a0eb9a",
   "metadata": {},
   "source": [
    "The idea here is choose two tools, VADER and Text Blob, and ran a little experiment with the data. "
   ]
  },
  {
   "cell_type": "markdown",
   "id": "e4755f73",
   "metadata": {},
   "source": [
    "## Importing libraries"
   ]
  },
  {
   "cell_type": "code",
   "execution_count": 1,
   "id": "be14da07",
   "metadata": {},
   "outputs": [],
   "source": [
    "# Import the required libraries\n",
    "import pandas as pd\n",
    "import numpy as np\n",
    "\n",
    "import matplotlib.pyplot as plt\n",
    "import matplotlib.colors\n",
    "import seaborn as sns\n",
    "\n",
    "from vaderSentiment.vaderSentiment import SentimentIntensityAnalyzer\n",
    "from textblob import TextBlob\n",
    "\n",
    "%matplotlib inline"
   ]
  },
  {
   "cell_type": "markdown",
   "id": "c2d15cfc",
   "metadata": {},
   "source": [
    "## Function definitions"
   ]
  },
  {
   "cell_type": "code",
   "execution_count": 2,
   "id": "a64a2d6b",
   "metadata": {},
   "outputs": [],
   "source": [
    "# Function Definitions\n",
    "\n",
    "def get_pretty_percent(x, y):\n",
    "    percentage = round(x/y, 3)\n",
    "    return str(percentage) + '%'\n",
    "\n",
    "def get_vader_sentiment(analyzer, tweet):\n",
    "    tweet = tweet.replace('#','')  # we want things like #fail to be included in text\n",
    "    vader_scores = analyzer.polarity_scores(tweet)\n",
    "    compound_score = vader_scores['compound']\n",
    "    vader_sentiment = None\n",
    "    # using thresholds from VADER developers/researchers are\n",
    "    if (compound_score >= 0.05):\n",
    "        vader_sentiment = 'positive'\n",
    "    elif (compound_score < 0.05 and compound_score > -0.05):\n",
    "        vader_sentiment = 'neutral'\n",
    "    elif (compound_score <= -0.05):\n",
    "        vader_sentiment = 'negative'\n",
    "    return vader_sentiment\n",
    "\n",
    "def get_text_blob_sentiment(tweet):\n",
    "    polarity = TextBlob(tweet).sentiment.polarity\n",
    "    # The polarity score is a float within the range [-1.0, 1.0]. \n",
    "    textblob_sentiment = None\n",
    "    if (polarity > 0):\n",
    "        textblob_sentiment = 'positive'\n",
    "    elif (polarity == 0):\n",
    "        textblob_sentiment = 'neutral'\n",
    "    elif (polarity < 0):\n",
    "        textblob_sentiment = 'negative'\n",
    "    return textblob_sentiment"
   ]
  },
  {
   "cell_type": "markdown",
   "id": "4ae3ac7c",
   "metadata": {},
   "source": [
    "## Reading dataset"
   ]
  },
  {
   "cell_type": "code",
   "execution_count": 3,
   "id": "c90b2fb5",
   "metadata": {},
   "outputs": [
    {
     "name": "stdout",
     "output_type": "stream",
     "text": [
      "(273188, 11)\n"
     ]
    },
    {
     "data": {
      "text/html": [
       "<div>\n",
       "<style scoped>\n",
       "    .dataframe tbody tr th:only-of-type {\n",
       "        vertical-align: middle;\n",
       "    }\n",
       "\n",
       "    .dataframe tbody tr th {\n",
       "        vertical-align: top;\n",
       "    }\n",
       "\n",
       "    .dataframe thead th {\n",
       "        text-align: right;\n",
       "    }\n",
       "</style>\n",
       "<table border=\"1\" class=\"dataframe\">\n",
       "  <thead>\n",
       "    <tr style=\"text-align: right;\">\n",
       "      <th></th>\n",
       "      <th>Unnamed: 0</th>\n",
       "      <th>Date</th>\n",
       "      <th>Tweet Text</th>\n",
       "      <th>Followers</th>\n",
       "      <th>Follows</th>\n",
       "      <th>Retweets</th>\n",
       "      <th>Favorites</th>\n",
       "      <th>Location</th>\n",
       "      <th>Airport_Twitter_Tag</th>\n",
       "      <th>Airport_IATA_Codes</th>\n",
       "      <th>Airport_Names</th>\n",
       "    </tr>\n",
       "  </thead>\n",
       "  <tbody>\n",
       "    <tr>\n",
       "      <th>0</th>\n",
       "      <td>15421</td>\n",
       "      <td>4/7/2017 7:52</td>\n",
       "      <td>Update: Flt EI7RE departed back to Dublin at 0...</td>\n",
       "      <td>20959.0</td>\n",
       "      <td>240.0</td>\n",
       "      <td>0.0</td>\n",
       "      <td>0.0</td>\n",
       "      <td>Belfast, Northern Ireland</td>\n",
       "      <td>@dublinairport</td>\n",
       "      <td>DUB</td>\n",
       "      <td>Dublin Airport</td>\n",
       "    </tr>\n",
       "    <tr>\n",
       "      <th>1</th>\n",
       "      <td>25645</td>\n",
       "      <td>12/3/2018 14:06</td>\n",
       "      <td>@DublinAirport Ah lads come on, rally the troo...</td>\n",
       "      <td>1433.0</td>\n",
       "      <td>637.0</td>\n",
       "      <td>0.0</td>\n",
       "      <td>0.0</td>\n",
       "      <td>Dublin, Ireland</td>\n",
       "      <td>@dublinairport</td>\n",
       "      <td>DUB</td>\n",
       "      <td>Dublin Airport</td>\n",
       "    </tr>\n",
       "    <tr>\n",
       "      <th>2</th>\n",
       "      <td>88734</td>\n",
       "      <td>12/24/2020 19:34:34</td>\n",
       "      <td>@DublinAirport https://t.co/8XPuZnW0P9</td>\n",
       "      <td>27616.0</td>\n",
       "      <td>868.0</td>\n",
       "      <td>0.0</td>\n",
       "      <td>0.0</td>\n",
       "      <td>Halifax, NS</td>\n",
       "      <td>@dublinairport</td>\n",
       "      <td>DUB</td>\n",
       "      <td>Dublin Airport</td>\n",
       "    </tr>\n",
       "  </tbody>\n",
       "</table>\n",
       "</div>"
      ],
      "text/plain": [
       "   Unnamed: 0                 Date  \\\n",
       "0       15421        4/7/2017 7:52   \n",
       "1       25645      12/3/2018 14:06   \n",
       "2       88734  12/24/2020 19:34:34   \n",
       "\n",
       "                                          Tweet Text  Followers  Follows  \\\n",
       "0  Update: Flt EI7RE departed back to Dublin at 0...    20959.0    240.0   \n",
       "1  @DublinAirport Ah lads come on, rally the troo...     1433.0    637.0   \n",
       "2             @DublinAirport https://t.co/8XPuZnW0P9    27616.0    868.0   \n",
       "\n",
       "   Retweets  Favorites                   Location Airport_Twitter_Tag  \\\n",
       "0       0.0        0.0  Belfast, Northern Ireland      @dublinairport   \n",
       "1       0.0        0.0            Dublin, Ireland      @dublinairport   \n",
       "2       0.0        0.0                Halifax, NS      @dublinairport   \n",
       "\n",
       "  Airport_IATA_Codes   Airport_Names  \n",
       "0                DUB  Dublin Airport  \n",
       "1                DUB  Dublin Airport  \n",
       "2                DUB  Dublin Airport  "
      ]
     },
     "execution_count": 3,
     "metadata": {},
     "output_type": "execute_result"
    }
   ],
   "source": [
    "tweets = pd.read_csv('newdata.csv')\n",
    "print(tweets.shape)\n",
    "tweets.head(3)"
   ]
  },
  {
   "cell_type": "markdown",
   "id": "8b41662a",
   "metadata": {},
   "source": [
    "## Creating a new column for the VADER sentiment"
   ]
  },
  {
   "cell_type": "code",
   "execution_count": 4,
   "id": "da3b1d89",
   "metadata": {},
   "outputs": [
    {
     "data": {
      "text/html": [
       "<div>\n",
       "<style scoped>\n",
       "    .dataframe tbody tr th:only-of-type {\n",
       "        vertical-align: middle;\n",
       "    }\n",
       "\n",
       "    .dataframe tbody tr th {\n",
       "        vertical-align: top;\n",
       "    }\n",
       "\n",
       "    .dataframe thead th {\n",
       "        text-align: right;\n",
       "    }\n",
       "</style>\n",
       "<table border=\"1\" class=\"dataframe\">\n",
       "  <thead>\n",
       "    <tr style=\"text-align: right;\">\n",
       "      <th></th>\n",
       "      <th>Unnamed: 0</th>\n",
       "      <th>Date</th>\n",
       "      <th>Tweet Text</th>\n",
       "      <th>Followers</th>\n",
       "      <th>Follows</th>\n",
       "      <th>Retweets</th>\n",
       "      <th>Favorites</th>\n",
       "      <th>Location</th>\n",
       "      <th>Airport_Twitter_Tag</th>\n",
       "      <th>Airport_IATA_Codes</th>\n",
       "      <th>Airport_Names</th>\n",
       "      <th>vader_sentiment</th>\n",
       "    </tr>\n",
       "  </thead>\n",
       "  <tbody>\n",
       "    <tr>\n",
       "      <th>0</th>\n",
       "      <td>15421</td>\n",
       "      <td>4/7/2017 7:52</td>\n",
       "      <td>Update: Flt EI7RE departed back to Dublin at 0...</td>\n",
       "      <td>20959.0</td>\n",
       "      <td>240.0</td>\n",
       "      <td>0.0</td>\n",
       "      <td>0.0</td>\n",
       "      <td>Belfast, Northern Ireland</td>\n",
       "      <td>@dublinairport</td>\n",
       "      <td>DUB</td>\n",
       "      <td>Dublin Airport</td>\n",
       "      <td>neutral</td>\n",
       "    </tr>\n",
       "    <tr>\n",
       "      <th>1</th>\n",
       "      <td>25645</td>\n",
       "      <td>12/3/2018 14:06</td>\n",
       "      <td>@DublinAirport Ah lads come on, rally the troo...</td>\n",
       "      <td>1433.0</td>\n",
       "      <td>637.0</td>\n",
       "      <td>0.0</td>\n",
       "      <td>0.0</td>\n",
       "      <td>Dublin, Ireland</td>\n",
       "      <td>@dublinairport</td>\n",
       "      <td>DUB</td>\n",
       "      <td>Dublin Airport</td>\n",
       "      <td>neutral</td>\n",
       "    </tr>\n",
       "    <tr>\n",
       "      <th>2</th>\n",
       "      <td>88734</td>\n",
       "      <td>12/24/2020 19:34:34</td>\n",
       "      <td>@DublinAirport https://t.co/8XPuZnW0P9</td>\n",
       "      <td>27616.0</td>\n",
       "      <td>868.0</td>\n",
       "      <td>0.0</td>\n",
       "      <td>0.0</td>\n",
       "      <td>Halifax, NS</td>\n",
       "      <td>@dublinairport</td>\n",
       "      <td>DUB</td>\n",
       "      <td>Dublin Airport</td>\n",
       "      <td>neutral</td>\n",
       "    </tr>\n",
       "  </tbody>\n",
       "</table>\n",
       "</div>"
      ],
      "text/plain": [
       "   Unnamed: 0                 Date  \\\n",
       "0       15421        4/7/2017 7:52   \n",
       "1       25645      12/3/2018 14:06   \n",
       "2       88734  12/24/2020 19:34:34   \n",
       "\n",
       "                                          Tweet Text  Followers  Follows  \\\n",
       "0  Update: Flt EI7RE departed back to Dublin at 0...    20959.0    240.0   \n",
       "1  @DublinAirport Ah lads come on, rally the troo...     1433.0    637.0   \n",
       "2             @DublinAirport https://t.co/8XPuZnW0P9    27616.0    868.0   \n",
       "\n",
       "   Retweets  Favorites                   Location Airport_Twitter_Tag  \\\n",
       "0       0.0        0.0  Belfast, Northern Ireland      @dublinairport   \n",
       "1       0.0        0.0            Dublin, Ireland      @dublinairport   \n",
       "2       0.0        0.0                Halifax, NS      @dublinairport   \n",
       "\n",
       "  Airport_IATA_Codes   Airport_Names vader_sentiment  \n",
       "0                DUB  Dublin Airport         neutral  \n",
       "1                DUB  Dublin Airport         neutral  \n",
       "2                DUB  Dublin Airport         neutral  "
      ]
     },
     "execution_count": 4,
     "metadata": {},
     "output_type": "execute_result"
    }
   ],
   "source": [
    "# Get the VADER sentiments\n",
    "analyzer = SentimentIntensityAnalyzer()\n",
    "tweets['vader_sentiment'] = tweets.apply(lambda row: get_vader_sentiment(analyzer, row['Tweet Text']), axis=1)\n",
    "tweets.head(3)"
   ]
  },
  {
   "cell_type": "markdown",
   "id": "afa4878a",
   "metadata": {},
   "source": [
    "We just got the sentiment from VADER. I’m using the compound score to label the tweet as Positive/Neutral/Negative per the VADER documentation.\n",
    "\n",
    "positive: compound score >= 0.05\n",
    "\n",
    "neutral: (compound score > -0.05) and (compound score < 0.05)\n",
    "\n",
    "negative: compound score <= -0.05"
   ]
  },
  {
   "cell_type": "markdown",
   "id": "618fa864",
   "metadata": {},
   "source": [
    "## Creating a new column for the Text Blob sentiment"
   ]
  },
  {
   "cell_type": "code",
   "execution_count": 5,
   "id": "f942abf1",
   "metadata": {},
   "outputs": [
    {
     "data": {
      "text/html": [
       "<div>\n",
       "<style scoped>\n",
       "    .dataframe tbody tr th:only-of-type {\n",
       "        vertical-align: middle;\n",
       "    }\n",
       "\n",
       "    .dataframe tbody tr th {\n",
       "        vertical-align: top;\n",
       "    }\n",
       "\n",
       "    .dataframe thead th {\n",
       "        text-align: right;\n",
       "    }\n",
       "</style>\n",
       "<table border=\"1\" class=\"dataframe\">\n",
       "  <thead>\n",
       "    <tr style=\"text-align: right;\">\n",
       "      <th></th>\n",
       "      <th>Unnamed: 0</th>\n",
       "      <th>Date</th>\n",
       "      <th>Tweet Text</th>\n",
       "      <th>Followers</th>\n",
       "      <th>Follows</th>\n",
       "      <th>Retweets</th>\n",
       "      <th>Favorites</th>\n",
       "      <th>Location</th>\n",
       "      <th>Airport_Twitter_Tag</th>\n",
       "      <th>Airport_IATA_Codes</th>\n",
       "      <th>Airport_Names</th>\n",
       "      <th>vader_sentiment</th>\n",
       "      <th>text_blob_sentiment</th>\n",
       "    </tr>\n",
       "  </thead>\n",
       "  <tbody>\n",
       "    <tr>\n",
       "      <th>0</th>\n",
       "      <td>15421</td>\n",
       "      <td>4/7/2017 7:52</td>\n",
       "      <td>Update: Flt EI7RE departed back to Dublin at 0...</td>\n",
       "      <td>20959.0</td>\n",
       "      <td>240.0</td>\n",
       "      <td>0.0</td>\n",
       "      <td>0.0</td>\n",
       "      <td>Belfast, Northern Ireland</td>\n",
       "      <td>@dublinairport</td>\n",
       "      <td>DUB</td>\n",
       "      <td>Dublin Airport</td>\n",
       "      <td>neutral</td>\n",
       "      <td>neutral</td>\n",
       "    </tr>\n",
       "    <tr>\n",
       "      <th>1</th>\n",
       "      <td>25645</td>\n",
       "      <td>12/3/2018 14:06</td>\n",
       "      <td>@DublinAirport Ah lads come on, rally the troo...</td>\n",
       "      <td>1433.0</td>\n",
       "      <td>637.0</td>\n",
       "      <td>0.0</td>\n",
       "      <td>0.0</td>\n",
       "      <td>Dublin, Ireland</td>\n",
       "      <td>@dublinairport</td>\n",
       "      <td>DUB</td>\n",
       "      <td>Dublin Airport</td>\n",
       "      <td>neutral</td>\n",
       "      <td>neutral</td>\n",
       "    </tr>\n",
       "    <tr>\n",
       "      <th>2</th>\n",
       "      <td>88734</td>\n",
       "      <td>12/24/2020 19:34:34</td>\n",
       "      <td>@DublinAirport https://t.co/8XPuZnW0P9</td>\n",
       "      <td>27616.0</td>\n",
       "      <td>868.0</td>\n",
       "      <td>0.0</td>\n",
       "      <td>0.0</td>\n",
       "      <td>Halifax, NS</td>\n",
       "      <td>@dublinairport</td>\n",
       "      <td>DUB</td>\n",
       "      <td>Dublin Airport</td>\n",
       "      <td>neutral</td>\n",
       "      <td>neutral</td>\n",
       "    </tr>\n",
       "  </tbody>\n",
       "</table>\n",
       "</div>"
      ],
      "text/plain": [
       "   Unnamed: 0                 Date  \\\n",
       "0       15421        4/7/2017 7:52   \n",
       "1       25645      12/3/2018 14:06   \n",
       "2       88734  12/24/2020 19:34:34   \n",
       "\n",
       "                                          Tweet Text  Followers  Follows  \\\n",
       "0  Update: Flt EI7RE departed back to Dublin at 0...    20959.0    240.0   \n",
       "1  @DublinAirport Ah lads come on, rally the troo...     1433.0    637.0   \n",
       "2             @DublinAirport https://t.co/8XPuZnW0P9    27616.0    868.0   \n",
       "\n",
       "   Retweets  Favorites                   Location Airport_Twitter_Tag  \\\n",
       "0       0.0        0.0  Belfast, Northern Ireland      @dublinairport   \n",
       "1       0.0        0.0            Dublin, Ireland      @dublinairport   \n",
       "2       0.0        0.0                Halifax, NS      @dublinairport   \n",
       "\n",
       "  Airport_IATA_Codes   Airport_Names vader_sentiment text_blob_sentiment  \n",
       "0                DUB  Dublin Airport         neutral             neutral  \n",
       "1                DUB  Dublin Airport         neutral             neutral  \n",
       "2                DUB  Dublin Airport         neutral             neutral  "
      ]
     },
     "execution_count": 5,
     "metadata": {},
     "output_type": "execute_result"
    }
   ],
   "source": [
    "# Get the Text Blob sentiments\n",
    "tweets['text_blob_sentiment'] = tweets.apply(lambda row: get_text_blob_sentiment(row['Tweet Text']), axis=1)\n",
    "tweets.head(3)"
   ]
  },
  {
   "cell_type": "markdown",
   "id": "aec6538b",
   "metadata": {},
   "source": [
    "## Comparing the results"
   ]
  },
  {
   "cell_type": "code",
   "execution_count": 6,
   "id": "b2f3fb3a",
   "metadata": {},
   "outputs": [],
   "source": [
    "by_vader = tweets.groupby(['vader_sentiment'])['Tweet Text'].count()\n",
    "by_textblob =  tweets.groupby(['text_blob_sentiment'])['Tweet Text'].count()"
   ]
  },
  {
   "cell_type": "markdown",
   "id": "cc0ad417",
   "metadata": {},
   "source": [
    "16.50% VADER Negative, 13.20% Text Blob Negative\n",
    "\n",
    "43.30% VADER Neutral, 52.00% Text Blob Neutral\n",
    "\n",
    "40.30% VADER Positive, 34.80% Text Blob Positive\n",
    "\n",
    "See below plot results.\n"
   ]
  },
  {
   "cell_type": "code",
   "execution_count": 8,
   "id": "b253b32a",
   "metadata": {},
   "outputs": [
    {
     "data": {
      "image/png": "[encoded data removed]",
      "text/plain": [
       "<Figure size 432x432 with 1 Axes>"
      ]
     },
     "metadata": {},
     "output_type": "display_data"
    }
   ],
   "source": [
    "fig2, ax2 = plt.subplots(figsize=(6,6))\n",
    "\n",
    "my_explode = (0.1, 0.1, 0.1)\n",
    "my_colors = ['red','yellow', 'green']\n",
    "plt.pie(by_vader, labels=by_vader.index, autopct='%1.1f%%', shadow=True, \n",
    "        pctdistance=0.80, explode=my_explode, colors=my_colors)\n",
    "plt.title('VADER-labeled Sentiment Breakdown', size='18')\n",
    "\n",
    "#draw circle and convert pie chart to Donut Chart\n",
    "centre_circle = plt.Circle((0,0),0.60,fc='white')\n",
    "fig2 = plt.gcf()\n",
    "fig2.gca().add_artist(centre_circle)\n",
    "\n",
    "# Equal aspect ratio ensures that pie is drawn as a circle\n",
    "ax2.axis('equal')  \n",
    "plt.show()"
   ]
  },
  {
   "cell_type": "code",
   "execution_count": 9,
   "id": "9f59a967",
   "metadata": {},
   "outputs": [
    {
     "data": {
      "image/png": "[encoded data removed]",
      "text/plain": [
       "<Figure size 432x432 with 1 Axes>"
      ]
     },
     "metadata": {},
     "output_type": "display_data"
    }
   ],
   "source": [
    "fig2, ax2 = plt.subplots(figsize=(6,6))\n",
    "\n",
    "my_explode = (0.1, 0.1, 0.1)\n",
    "my_colors =  ['red','yellow', 'green']\n",
    "plt.pie(by_textblob, labels=by_textblob.index, autopct='%1.1f%%', shadow=True, \n",
    "        pctdistance=0.80, explode=my_explode, colors=my_colors)\n",
    "plt.title('Text Blob-labeled Sentiment Breakdown', size='18')\n",
    "\n",
    "#draw circle and convert pie chart to Donut Chart\n",
    "centre_circle = plt.Circle((0,0),0.60,fc='white')\n",
    "fig2 = plt.gcf()\n",
    "fig2.gca().add_artist(centre_circle)\n",
    "\n",
    "# Equal aspect ratio ensures that pie is drawn as a circle\n",
    "ax2.axis('equal')  \n",
    "\n",
    "\n",
    "plt.show()"
   ]
  },
  {
   "cell_type": "code",
   "execution_count": 11,
   "id": "5c51c35b",
   "metadata": {},
   "outputs": [
    {
     "data": {
      "image/png": "[encoded data removed]",
      "text/plain": [
       "<Figure size 1080x720 with 2 Axes>"
      ]
     },
     "metadata": {
      "needs_background": "light"
     },
     "output_type": "display_data"
    }
   ],
   "source": [
    "plt.subplot(1, 3, 2)\n",
    "v_labels = by_vader.values\n",
    "by_vader.plot.bar(fontsize=14, rot=50, alpha=0.9, figsize=(15,10), color='black')\n",
    "for i in range(3):\n",
    "    plt.text(x=i, y=v_labels[i], s=v_labels[i], size=14, rotation=45, color='black')\n",
    "\n",
    "plt.subplot(1, 3, 3)\n",
    "tb_labels = by_textblob.values\n",
    "by_textblob.plot.bar(fontsize=14, rot=50, alpha=0.9, figsize=(15,10), color='blue')\n",
    "for i in range(3):\n",
    "    plt.text(x=i, y=tb_labels[i], s=tb_labels[i], size=14, rotation=45, color='black')\n",
    "\n",
    "plt.yticks(size=14)\n",
    "plt.tight_layout()\n",
    "plt.show()"
   ]
  }
 ],
 "metadata": {
  "kernelspec": {
   "display_name": "Python 3",
   "language": "python",
   "name": "python3"
  },
  "language_info": {
   "codemirror_mode": {
    "name": "ipython",
    "version": 3
   },
   "file_extension": ".py",
   "mimetype": "text/x-python",
   "name": "python",
   "nbconvert_exporter": "python",
   "pygments_lexer": "ipython3",
   "version": "3.8.10"
  }
 },
 "nbformat": 4,
 "nbformat_minor": 5
}
