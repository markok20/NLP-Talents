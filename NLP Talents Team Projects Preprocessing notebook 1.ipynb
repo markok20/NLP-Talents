{
 "cells": [
  {
   "cell_type": "code",
   "execution_count": 1,
   "id": "3b7bd1c1",
   "metadata": {},
   "outputs": [],
   "source": [
    "# NLP Talents Team Projects Preprocessing notebook 1\n",
    "\n",
    "import numpy as np                  \n",
    "import pandas as pd                 \n",
    "import matplotlib.pyplot as plt     \n",
    "%matplotlib inline\n",
    "import seaborn as sns               \n",
    "from bs4 import BeautifulSoup      "
   ]
  },
  {
   "cell_type": "code",
   "execution_count": 2,
   "id": "bba6e02d",
   "metadata": {
    "scrolled": true
   },
   "outputs": [
    {
     "data": {
      "text/html": [
       "<div>\n",
       "<style scoped>\n",
       "    .dataframe tbody tr th:only-of-type {\n",
       "        vertical-align: middle;\n",
       "    }\n",
       "\n",
       "    .dataframe tbody tr th {\n",
       "        vertical-align: top;\n",
       "    }\n",
       "\n",
       "    .dataframe thead th {\n",
       "        text-align: right;\n",
       "    }\n",
       "</style>\n",
       "<table border=\"1\" class=\"dataframe\">\n",
       "  <thead>\n",
       "    <tr style=\"text-align: right;\">\n",
       "      <th></th>\n",
       "      <th>Date</th>\n",
       "      <th>Screen Name</th>\n",
       "      <th>Full Name</th>\n",
       "      <th>Tweet Text</th>\n",
       "      <th>Tweet ID</th>\n",
       "      <th>App</th>\n",
       "      <th>Followers</th>\n",
       "      <th>Follows</th>\n",
       "      <th>Retweets</th>\n",
       "      <th>Favorites</th>\n",
       "      <th>Verfied</th>\n",
       "      <th>User Since</th>\n",
       "      <th>Location</th>\n",
       "      <th>Bio</th>\n",
       "      <th>Profile Image</th>\n",
       "      <th>Airport Twitter Tag</th>\n",
       "      <th>Airport IATA Codes</th>\n",
       "      <th>Airport Names</th>\n",
       "    </tr>\n",
       "  </thead>\n",
       "  <tbody>\n",
       "    <tr>\n",
       "      <th>868342</th>\n",
       "      <td>3/24/2021 8:23:22</td>\n",
       "      <td>@20_cooler</td>\n",
       "      <td>20% cooler</td>\n",
       "      <td>@DFWAirport Awesome https://t.co/Yj1WAKyeK9</td>\n",
       "      <td>1.374555e+18</td>\n",
       "      <td>Twitter for Android</td>\n",
       "      <td>2.0</td>\n",
       "      <td>12.0</td>\n",
       "      <td>0.0</td>\n",
       "      <td>0.0</td>\n",
       "      <td>No</td>\n",
       "      <td>10/23/2018</td>\n",
       "      <td>Surprise, AZ</td>\n",
       "      <td>NaN</td>\n",
       "      <td>View</td>\n",
       "      <td>@dfwairport</td>\n",
       "      <td>DFW</td>\n",
       "      <td>Dallas/Fort Worth International Airport</td>\n",
       "    </tr>\n",
       "    <tr>\n",
       "      <th>868343</th>\n",
       "      <td>3/24/2021 12:12:26</td>\n",
       "      <td>@esvcvdk1</td>\n",
       "      <td>Cor van der Kaaij</td>\n",
       "      <td>@Schiphol @SchipholWatch Tips omwonenden passe...</td>\n",
       "      <td>1.374613e+18</td>\n",
       "      <td>Twitter Web App</td>\n",
       "      <td>155.0</td>\n",
       "      <td>453.0</td>\n",
       "      <td>0.0</td>\n",
       "      <td>0.0</td>\n",
       "      <td>No</td>\n",
       "      <td>10/27/2014</td>\n",
       "      <td>Beetsterzwaag Friesland</td>\n",
       "      <td>Van #NLOntwikkeld.nl | Mensenmens | Meedenker ...</td>\n",
       "      <td>View</td>\n",
       "      <td>@schiphol</td>\n",
       "      <td>AMS</td>\n",
       "      <td>Amsterdam Airport Schiphol</td>\n",
       "    </tr>\n",
       "    <tr>\n",
       "      <th>868344</th>\n",
       "      <td>3/24/2021 13:56:49</td>\n",
       "      <td>@lou26chris</td>\n",
       "      <td>louisa hardy</td>\n",
       "      <td>@STN_Airport Good morning stansted airport ????</td>\n",
       "      <td>1.374639e+18</td>\n",
       "      <td>Twitter for iPhone</td>\n",
       "      <td>95.0</td>\n",
       "      <td>958.0</td>\n",
       "      <td>0.0</td>\n",
       "      <td>0.0</td>\n",
       "      <td>No</td>\n",
       "      <td>2/24/2013</td>\n",
       "      <td>NaN</td>\n",
       "      <td>My loves are family , friends , holidays in th...</td>\n",
       "      <td>View</td>\n",
       "      <td>@stn_airport</td>\n",
       "      <td>STN</td>\n",
       "      <td>London Stansted Airpor</td>\n",
       "    </tr>\n",
       "    <tr>\n",
       "      <th>868345</th>\n",
       "      <td>3/24/2021 14:29:44</td>\n",
       "      <td>@Veloccerosso</td>\n",
       "      <td>Veloccerosso</td>\n",
       "      <td>@BrusselsAirport Any news on alleged SAA matter?</td>\n",
       "      <td>1.374647e+18</td>\n",
       "      <td>Twitter for Android</td>\n",
       "      <td>230.0</td>\n",
       "      <td>771.0</td>\n",
       "      <td>0.0</td>\n",
       "      <td>0.0</td>\n",
       "      <td>No</td>\n",
       "      <td>12/29/2010</td>\n",
       "      <td>NaN</td>\n",
       "      <td>Interests in airline services and travel facil...</td>\n",
       "      <td>View</td>\n",
       "      <td>@brusselsairport</td>\n",
       "      <td>BRU</td>\n",
       "      <td>Brussels Airport</td>\n",
       "    </tr>\n",
       "    <tr>\n",
       "      <th>868346</th>\n",
       "      <td>3/24/2021 15:03:10</td>\n",
       "      <td>@lou26chris</td>\n",
       "      <td>louisa hardy</td>\n",
       "      <td>@STN_Airport OMG ...... if only you knew how m...</td>\n",
       "      <td>1.374656e+18</td>\n",
       "      <td>Twitter for iPhone</td>\n",
       "      <td>95.0</td>\n",
       "      <td>958.0</td>\n",
       "      <td>0.0</td>\n",
       "      <td>1.0</td>\n",
       "      <td>No</td>\n",
       "      <td>2/24/2013</td>\n",
       "      <td>NaN</td>\n",
       "      <td>My loves are family , friends , holidays in th...</td>\n",
       "      <td>View</td>\n",
       "      <td>@stn_airport</td>\n",
       "      <td>STN</td>\n",
       "      <td>London Stansted Airpor</td>\n",
       "    </tr>\n",
       "    <tr>\n",
       "      <th>868347</th>\n",
       "      <td>3/24/2021 15:06:29</td>\n",
       "      <td>@lou26chris</td>\n",
       "      <td>louisa hardy</td>\n",
       "      <td>@STN_Airport @KevinS22551757 Spain is in my bl...</td>\n",
       "      <td>1.374656e+18</td>\n",
       "      <td>Twitter for iPhone</td>\n",
       "      <td>95.0</td>\n",
       "      <td>958.0</td>\n",
       "      <td>0.0</td>\n",
       "      <td>1.0</td>\n",
       "      <td>No</td>\n",
       "      <td>2/24/2013</td>\n",
       "      <td>NaN</td>\n",
       "      <td>My loves are family , friends , holidays in th...</td>\n",
       "      <td>View</td>\n",
       "      <td>@stn_airport</td>\n",
       "      <td>STN</td>\n",
       "      <td>London Stansted Airpor</td>\n",
       "    </tr>\n",
       "    <tr>\n",
       "      <th>868348</th>\n",
       "      <td>3/24/2021 15:47:16</td>\n",
       "      <td>@MarieJoseM1</td>\n",
       "      <td>Mariejose</td>\n",
       "      <td>@ParisAeroport Je voudrais savoir �galement la...</td>\n",
       "      <td>1.374667e+18</td>\n",
       "      <td>Twitter for Android</td>\n",
       "      <td>49.0</td>\n",
       "      <td>105.0</td>\n",
       "      <td>0.0</td>\n",
       "      <td>0.0</td>\n",
       "      <td>No</td>\n",
       "      <td>11/25/2011</td>\n",
       "      <td>Lebanon</td>\n",
       "      <td>Doctor of dental surgery Resident in Endodonti...</td>\n",
       "      <td>View</td>\n",
       "      <td>@parisaeroport</td>\n",
       "      <td>NaN</td>\n",
       "      <td>Paris Aeroport</td>\n",
       "    </tr>\n",
       "    <tr>\n",
       "      <th>868349</th>\n",
       "      <td>3/24/2021 15:52:14</td>\n",
       "      <td>@c10mannella</td>\n",
       "      <td>Chris Mannella</td>\n",
       "      <td>@TorontoPearson @GovCanHealth Hey, is there ra...</td>\n",
       "      <td>1.374668e+18</td>\n",
       "      <td>Twitter for iPhone</td>\n",
       "      <td>1312.0</td>\n",
       "      <td>227.0</td>\n",
       "      <td>0.0</td>\n",
       "      <td>0.0</td>\n",
       "      <td>No</td>\n",
       "      <td>6/23/2010</td>\n",
       "      <td>Ottawa, Ontario</td>\n",
       "      <td>??</td>\n",
       "      <td>View</td>\n",
       "      <td>@torontopearson</td>\n",
       "      <td>YYZ</td>\n",
       "      <td>Toronto Pearson Airport</td>\n",
       "    </tr>\n",
       "    <tr>\n",
       "      <th>868350</th>\n",
       "      <td>3/24/2021 15:59:14</td>\n",
       "      <td>@PeterButterfi12</td>\n",
       "      <td>Peter Butterfield</td>\n",
       "      <td>@STN_Airport Thanks @STN_Airport for your quic...</td>\n",
       "      <td>1.374670e+18</td>\n",
       "      <td>Twitter for iPhone</td>\n",
       "      <td>0.0</td>\n",
       "      <td>31.0</td>\n",
       "      <td>0.0</td>\n",
       "      <td>0.0</td>\n",
       "      <td>No</td>\n",
       "      <td>11/21/2020</td>\n",
       "      <td>NaN</td>\n",
       "      <td>NaN</td>\n",
       "      <td>View</td>\n",
       "      <td>@stn_airport, @stn_airport</td>\n",
       "      <td>STN, STN</td>\n",
       "      <td>London Stansted Airpor, London Stansted Airpor</td>\n",
       "    </tr>\n",
       "    <tr>\n",
       "      <th>868351</th>\n",
       "      <td>3/24/2021 16:23:34</td>\n",
       "      <td>@isamorandeau</td>\n",
       "      <td>Isabelle Morandeau</td>\n",
       "      <td>@ParisAeroport : bonjour. J'ai r�serv� et r�gl...</td>\n",
       "      <td>1.374676e+18</td>\n",
       "      <td>Twitter Web App</td>\n",
       "      <td>804.0</td>\n",
       "      <td>1026.0</td>\n",
       "      <td>0.0</td>\n",
       "      <td>0.0</td>\n",
       "      <td>No</td>\n",
       "      <td>8/14/2015</td>\n",
       "      <td>Ile de France, Paris</td>\n",
       "      <td>#RelationClient #Marketing #Digital #R�tention...</td>\n",
       "      <td>View</td>\n",
       "      <td>@parisaeroport</td>\n",
       "      <td>NaN</td>\n",
       "      <td>Paris Aeroport</td>\n",
       "    </tr>\n",
       "  </tbody>\n",
       "</table>\n",
       "</div>"
      ],
      "text/plain": [
       "                      Date       Screen Name           Full Name  \\\n",
       "868342   3/24/2021 8:23:22        @20_cooler          20% cooler   \n",
       "868343  3/24/2021 12:12:26         @esvcvdk1   Cor van der Kaaij   \n",
       "868344  3/24/2021 13:56:49       @lou26chris        louisa hardy   \n",
       "868345  3/24/2021 14:29:44     @Veloccerosso        Veloccerosso   \n",
       "868346  3/24/2021 15:03:10       @lou26chris        louisa hardy   \n",
       "868347  3/24/2021 15:06:29       @lou26chris        louisa hardy   \n",
       "868348  3/24/2021 15:47:16      @MarieJoseM1           Mariejose   \n",
       "868349  3/24/2021 15:52:14      @c10mannella      Chris Mannella   \n",
       "868350  3/24/2021 15:59:14  @PeterButterfi12   Peter Butterfield   \n",
       "868351  3/24/2021 16:23:34     @isamorandeau  Isabelle Morandeau   \n",
       "\n",
       "                                               Tweet Text      Tweet ID  \\\n",
       "868342        @DFWAirport Awesome https://t.co/Yj1WAKyeK9  1.374555e+18   \n",
       "868343  @Schiphol @SchipholWatch Tips omwonenden passe...  1.374613e+18   \n",
       "868344    @STN_Airport Good morning stansted airport ????  1.374639e+18   \n",
       "868345   @BrusselsAirport Any news on alleged SAA matter?  1.374647e+18   \n",
       "868346  @STN_Airport OMG ...... if only you knew how m...  1.374656e+18   \n",
       "868347  @STN_Airport @KevinS22551757 Spain is in my bl...  1.374656e+18   \n",
       "868348  @ParisAeroport Je voudrais savoir �galement la...  1.374667e+18   \n",
       "868349  @TorontoPearson @GovCanHealth Hey, is there ra...  1.374668e+18   \n",
       "868350  @STN_Airport Thanks @STN_Airport for your quic...  1.374670e+18   \n",
       "868351  @ParisAeroport : bonjour. J'ai r�serv� et r�gl...  1.374676e+18   \n",
       "\n",
       "                        App  Followers  Follows  Retweets  Favorites Verfied  \\\n",
       "868342  Twitter for Android        2.0     12.0       0.0        0.0      No   \n",
       "868343      Twitter Web App      155.0    453.0       0.0        0.0      No   \n",
       "868344   Twitter for iPhone       95.0    958.0       0.0        0.0      No   \n",
       "868345  Twitter for Android      230.0    771.0       0.0        0.0      No   \n",
       "868346   Twitter for iPhone       95.0    958.0       0.0        1.0      No   \n",
       "868347   Twitter for iPhone       95.0    958.0       0.0        1.0      No   \n",
       "868348  Twitter for Android       49.0    105.0       0.0        0.0      No   \n",
       "868349   Twitter for iPhone     1312.0    227.0       0.0        0.0      No   \n",
       "868350   Twitter for iPhone        0.0     31.0       0.0        0.0      No   \n",
       "868351      Twitter Web App      804.0   1026.0       0.0        0.0      No   \n",
       "\n",
       "        User Since                 Location  \\\n",
       "868342  10/23/2018             Surprise, AZ   \n",
       "868343  10/27/2014  Beetsterzwaag Friesland   \n",
       "868344   2/24/2013                      NaN   \n",
       "868345  12/29/2010                      NaN   \n",
       "868346   2/24/2013                      NaN   \n",
       "868347   2/24/2013                      NaN   \n",
       "868348  11/25/2011                  Lebanon   \n",
       "868349   6/23/2010          Ottawa, Ontario   \n",
       "868350  11/21/2020                      NaN   \n",
       "868351   8/14/2015     Ile de France, Paris   \n",
       "\n",
       "                                                      Bio Profile Image  \\\n",
       "868342                                                NaN          View   \n",
       "868343  Van #NLOntwikkeld.nl | Mensenmens | Meedenker ...          View   \n",
       "868344  My loves are family , friends , holidays in th...          View   \n",
       "868345  Interests in airline services and travel facil...          View   \n",
       "868346  My loves are family , friends , holidays in th...          View   \n",
       "868347  My loves are family , friends , holidays in th...          View   \n",
       "868348  Doctor of dental surgery Resident in Endodonti...          View   \n",
       "868349                                                 ??          View   \n",
       "868350                                                NaN          View   \n",
       "868351  #RelationClient #Marketing #Digital #R�tention...          View   \n",
       "\n",
       "               Airport Twitter Tag Airport IATA Codes  \\\n",
       "868342                 @dfwairport                DFW   \n",
       "868343                   @schiphol                AMS   \n",
       "868344                @stn_airport                STN   \n",
       "868345            @brusselsairport                BRU   \n",
       "868346                @stn_airport                STN   \n",
       "868347                @stn_airport                STN   \n",
       "868348              @parisaeroport                NaN   \n",
       "868349             @torontopearson                YYZ   \n",
       "868350  @stn_airport, @stn_airport           STN, STN   \n",
       "868351              @parisaeroport                NaN   \n",
       "\n",
       "                                         Airport Names  \n",
       "868342         Dallas/Fort Worth International Airport  \n",
       "868343                      Amsterdam Airport Schiphol  \n",
       "868344                          London Stansted Airpor  \n",
       "868345                                Brussels Airport  \n",
       "868346                          London Stansted Airpor  \n",
       "868347                          London Stansted Airpor  \n",
       "868348                                  Paris Aeroport  \n",
       "868349                         Toronto Pearson Airport  \n",
       "868350  London Stansted Airpor, London Stansted Airpor  \n",
       "868351                                  Paris Aeroport  "
      ]
     },
     "execution_count": 2,
     "metadata": {},
     "output_type": "execute_result"
    }
   ],
   "source": [
    "# data in\n",
    "\n",
    "data = pd.read_csv('5-Data After pre-processing (CSV Format).csv')\n",
    "data.tail(10)"
   ]
  },
  {
   "cell_type": "code",
   "execution_count": 3,
   "id": "28469ef8",
   "metadata": {},
   "outputs": [
    {
     "data": {
      "text/plain": [
       "(868352, 18)"
      ]
     },
     "execution_count": 3,
     "metadata": {},
     "output_type": "execute_result"
    }
   ],
   "source": [
    "# 868352 rows, 18 columns)\n",
    "data.shape"
   ]
  },
  {
   "cell_type": "code",
   "execution_count": 4,
   "id": "d2abfd60",
   "metadata": {
    "scrolled": true
   },
   "outputs": [
    {
     "name": "stdout",
     "output_type": "stream",
     "text": [
      "<class 'pandas.core.frame.DataFrame'>\n",
      "RangeIndex: 868352 entries, 0 to 868351\n",
      "Data columns (total 18 columns):\n",
      " #   Column               Non-Null Count   Dtype  \n",
      "---  ------               --------------   -----  \n",
      " 0   Date                 868352 non-null  object \n",
      " 1   Screen Name          868352 non-null  object \n",
      " 2   Full Name            868290 non-null  object \n",
      " 3   Tweet Text           868352 non-null  object \n",
      " 4   Tweet ID             868352 non-null  float64\n",
      " 5   App                  868330 non-null  object \n",
      " 6   Followers            868352 non-null  float64\n",
      " 7   Follows              868352 non-null  float64\n",
      " 8   Retweets             868352 non-null  float64\n",
      " 9   Favorites            868352 non-null  float64\n",
      " 10  Verfied              868352 non-null  object \n",
      " 11  User Since           868352 non-null  object \n",
      " 12  Location             601569 non-null  object \n",
      " 13  Bio                  638733 non-null  object \n",
      " 14  Profile Image        868352 non-null  object \n",
      " 15  Airport Twitter Tag  856075 non-null  object \n",
      " 16  Airport IATA Codes   805463 non-null  object \n",
      " 17  Airport Names        856075 non-null  object \n",
      "dtypes: float64(5), object(13)\n",
      "memory usage: 119.3+ MB\n"
     ]
    }
   ],
   "source": [
    "# 868 352 rows, 18 columns/features\n",
    "\n",
    "data.info()"
   ]
  },
  {
   "cell_type": "code",
   "execution_count": 5,
   "id": "edf15d19",
   "metadata": {},
   "outputs": [
    {
     "data": {
      "text/plain": [
       "Date                   868352\n",
       "Screen Name            868352\n",
       "Full Name              868290\n",
       "Tweet Text             868352\n",
       "Tweet ID               868352\n",
       "App                    868330\n",
       "Followers              868352\n",
       "Follows                868352\n",
       "Retweets               868352\n",
       "Favorites              868352\n",
       "Verfied                868352\n",
       "User Since             868352\n",
       "Location               601569\n",
       "Bio                    638733\n",
       "Profile Image          868352\n",
       "Airport Twitter Tag    856075\n",
       "Airport IATA Codes     805463\n",
       "Airport Names          856075\n",
       "dtype: int64"
      ]
     },
     "execution_count": 5,
     "metadata": {},
     "output_type": "execute_result"
    }
   ],
   "source": [
    "# features\n",
    "\n",
    "data.count()"
   ]
  },
  {
   "cell_type": "code",
   "execution_count": 6,
   "id": "fb75e1de",
   "metadata": {},
   "outputs": [
    {
     "data": {
      "text/plain": [
       "Index(['Date', 'Screen Name', 'Full Name', 'Tweet Text', 'Tweet ID', 'App',\n",
       "       'Followers', 'Follows', 'Retweets', 'Favorites', 'Verfied',\n",
       "       'User Since', 'Location', 'Bio', 'Profile Image', 'Airport Twitter Tag',\n",
       "       'Airport IATA Codes', 'Airport Names'],\n",
       "      dtype='object')"
      ]
     },
     "execution_count": 6,
     "metadata": {},
     "output_type": "execute_result"
    }
   ],
   "source": [
    "# columns\n",
    "\n",
    "data.columns"
   ]
  },
  {
   "cell_type": "code",
   "execution_count": 7,
   "id": "340f8fa6",
   "metadata": {},
   "outputs": [
    {
     "data": {
      "text/plain": [
       "Index(['Date', 'Screen Name', 'Full Name', 'Tweet Text', 'Tweet ID', 'App',\n",
       "       'Followers', 'Follows', 'Retweets', 'Favorites', 'Verfied',\n",
       "       'User Since', 'Location', 'Bio', 'Profile Image', 'Airport_Twitter_Tag',\n",
       "       'Airport_IATA_Codes', 'Airport_Names'],\n",
       "      dtype='object')"
      ]
     },
     "execution_count": 7,
     "metadata": {},
     "output_type": "execute_result"
    }
   ],
   "source": [
    "# changing names of columns\n",
    "\n",
    "data.columns = ['Date', 'Screen Name', 'Full Name', 'Tweet Text', 'Tweet ID', 'App',\n",
    "       'Followers', 'Follows', 'Retweets', 'Favorites', 'Verfied',\n",
    "       'User Since', 'Location', 'Bio', 'Profile Image', 'Airport_Twitter_Tag',\n",
    "       'Airport_IATA_Codes', 'Airport_Names']\n",
    "\n",
    "# Checking\n",
    "\n",
    "data.columns"
   ]
  },
  {
   "cell_type": "code",
   "execution_count": 8,
   "id": "7de1cd20",
   "metadata": {},
   "outputs": [
    {
     "data": {
      "text/plain": [
       "Date                        0\n",
       "Screen Name                 0\n",
       "Full Name                  62\n",
       "Tweet Text                  0\n",
       "Tweet ID                    0\n",
       "App                        22\n",
       "Followers                   0\n",
       "Follows                     0\n",
       "Retweets                    0\n",
       "Favorites                   0\n",
       "Verfied                     0\n",
       "User Since                  0\n",
       "Location               266783\n",
       "Bio                    229619\n",
       "Profile Image               0\n",
       "Airport_Twitter_Tag     12277\n",
       "Airport_IATA_Codes      62889\n",
       "Airport_Names           12277\n",
       "dtype: int64"
      ]
     },
     "execution_count": 8,
     "metadata": {},
     "output_type": "execute_result"
    }
   ],
   "source": [
    "# Handle the Null values\n",
    "\n",
    "data.isnull().sum()"
   ]
  },
  {
   "cell_type": "code",
   "execution_count": 9,
   "id": "66ff4db3",
   "metadata": {},
   "outputs": [
    {
     "name": "stdout",
     "output_type": "stream",
     "text": [
      "Percentage of missing values per feature\n"
     ]
    },
    {
     "data": {
      "text/plain": [
       "Date                    0.00\n",
       "Screen Name             0.00\n",
       "Full Name               0.01\n",
       "Tweet Text              0.00\n",
       "Tweet ID                0.00\n",
       "App                     0.00\n",
       "Followers               0.00\n",
       "Follows                 0.00\n",
       "Retweets                0.00\n",
       "Favorites               0.00\n",
       "Verfied                 0.00\n",
       "User Since              0.00\n",
       "Location               30.72\n",
       "Bio                    26.44\n",
       "Profile Image           0.00\n",
       "Airport_Twitter_Tag     1.41\n",
       "Airport_IATA_Codes      7.24\n",
       "Airport_Names           1.41\n",
       "dtype: float64"
      ]
     },
     "execution_count": 9,
     "metadata": {},
     "output_type": "execute_result"
    }
   ],
   "source": [
    "# Handle the Null values\n",
    "# Location 30%, bio 26% \n",
    "\n",
    "print('Percentage of missing values per feature')\n",
    "round(data.isna().sum() * 100 / len(data), 2)"
   ]
  },
  {
   "cell_type": "code",
   "execution_count": 10,
   "id": "9080882c",
   "metadata": {},
   "outputs": [
    {
     "data": {
      "text/plain": [
       "London, England             0.022295\n",
       "London                      0.019594\n",
       "United Kingdom              0.011480\n",
       "Ireland                     0.009537\n",
       "UK                          0.009198\n",
       "England, United Kingdom     0.009016\n",
       "Dublin City, Ireland        0.006658\n",
       "London, UK                  0.006318\n",
       "Manchester, England         0.006089\n",
       "Dublin                      0.005787\n",
       "Manchester                  0.005208\n",
       "United States               0.005191\n",
       "Los Angeles, CA             0.004929\n",
       "??????                      0.004217\n",
       "Dublin, Ireland             0.004133\n",
       "Edinburgh, Scotland         0.003519\n",
       "Scotland, United Kingdom    0.003381\n",
       "Atlanta, GA                 0.003375\n",
       "Edinburgh                   0.003335\n",
       "Berlin                      0.003147\n",
       "Name: Location, dtype: float64"
      ]
     },
     "execution_count": 10,
     "metadata": {},
     "output_type": "execute_result"
    }
   ],
   "source": [
    "# locations top list\n",
    "\n",
    "data.Location.value_counts(normalize=True).head(20)"
   ]
  },
  {
   "cell_type": "code",
   "execution_count": 11,
   "id": "21f6d4c9",
   "metadata": {},
   "outputs": [
    {
     "data": {
      "text/plain": [
       "@heathrowairport    0.096562\n",
       "@manairport         0.078233\n",
       "@dublinairport      0.060415\n",
       "@gatwick_airport    0.050226\n",
       "@stn_airport        0.042971\n",
       "@schiphol           0.030928\n",
       "@centrairairport    0.030578\n",
       "@contactap2         0.026200\n",
       "@aena               0.022603\n",
       "@yvrairport         0.022570\n",
       "@edi_airport        0.021651\n",
       "@dfwairport         0.019717\n",
       "@atlairport         0.018285\n",
       "@flylaxairport      0.017387\n",
       "@aicm_mx            0.016173\n",
       "@kkiasa             0.015249\n",
       "@torontopearson     0.014125\n",
       "@gla_airport        0.013008\n",
       "@bog_eldorado       0.012759\n",
       "@flytpa             0.012273\n",
       "Name: Airport_Twitter_Tag, dtype: float64"
      ]
     },
     "execution_count": 11,
     "metadata": {},
     "output_type": "execute_result"
    }
   ],
   "source": [
    "# Airport top list\n",
    "\n",
    "data.Airport_Twitter_Tag.value_counts(normalize=True).head(20)"
   ]
  },
  {
   "cell_type": "code",
   "execution_count": 12,
   "id": "e99f1013",
   "metadata": {},
   "outputs": [
    {
     "data": {
      "text/plain": [
       "LHR    0.102629\n",
       "MAN    0.083148\n",
       "DUB    0.064212\n",
       "LGW    0.053382\n",
       "STN    0.045671\n",
       "AMS    0.032872\n",
       "NGO    0.032499\n",
       "HLP    0.027846\n",
       "YVR    0.023989\n",
       "EDI    0.023012\n",
       "DFW    0.020956\n",
       "ATL    0.019434\n",
       "LAX    0.018480\n",
       "MEX    0.017189\n",
       "RUH    0.016207\n",
       "YYZ    0.015012\n",
       "GLA    0.013826\n",
       "BOG    0.013561\n",
       "TPA    0.013045\n",
       "BHX    0.012788\n",
       "Name: Airport_IATA_Codes, dtype: float64"
      ]
     },
     "execution_count": 12,
     "metadata": {},
     "output_type": "execute_result"
    }
   ],
   "source": [
    "# IATA code top list\n",
    "\n",
    "data.Airport_IATA_Codes.value_counts(normalize=True).head(20)"
   ]
  },
  {
   "cell_type": "code",
   "execution_count": 13,
   "id": "51acc459",
   "metadata": {},
   "outputs": [],
   "source": [
    "# selecting data which contains airports below, please note that some tweets contain several airports\n",
    "# new dataframe\n",
    "# # https://pandas.pydata.org/pandas-docs/stable/reference/api/pandas.Series.str.contains.html#pandas.Series.str.contains\n",
    "\n",
    "# @heathrowairport    0.096562\n",
    "# @manairport         0.078233\n",
    "# @dublinairport      0.060415\n",
    "# @gatwick_airport    0.050226\n",
    "# @stn_airport        0.042971\n",
    "\n",
    "df2 = data[data['Airport_Twitter_Tag'].astype(str).str.contains('@heathrowairport|@manairport|@dublinairport|@gatwick_airport|@stn_airport', case=True, regex=True)]"
   ]
  },
  {
   "cell_type": "code",
   "execution_count": 14,
   "id": "c301add9",
   "metadata": {},
   "outputs": [
    {
     "data": {
      "text/html": [
       "<div>\n",
       "<style scoped>\n",
       "    .dataframe tbody tr th:only-of-type {\n",
       "        vertical-align: middle;\n",
       "    }\n",
       "\n",
       "    .dataframe tbody tr th {\n",
       "        vertical-align: top;\n",
       "    }\n",
       "\n",
       "    .dataframe thead th {\n",
       "        text-align: right;\n",
       "    }\n",
       "</style>\n",
       "<table border=\"1\" class=\"dataframe\">\n",
       "  <thead>\n",
       "    <tr style=\"text-align: right;\">\n",
       "      <th></th>\n",
       "      <th>Date</th>\n",
       "      <th>Screen Name</th>\n",
       "      <th>Full Name</th>\n",
       "      <th>Tweet Text</th>\n",
       "      <th>Tweet ID</th>\n",
       "      <th>App</th>\n",
       "      <th>Followers</th>\n",
       "      <th>Follows</th>\n",
       "      <th>Retweets</th>\n",
       "      <th>Favorites</th>\n",
       "      <th>Verfied</th>\n",
       "      <th>User Since</th>\n",
       "      <th>Location</th>\n",
       "      <th>Bio</th>\n",
       "      <th>Profile Image</th>\n",
       "      <th>Airport_Twitter_Tag</th>\n",
       "      <th>Airport_IATA_Codes</th>\n",
       "      <th>Airport_Names</th>\n",
       "    </tr>\n",
       "  </thead>\n",
       "  <tbody>\n",
       "    <tr>\n",
       "      <th>20</th>\n",
       "      <td>11/7/2016 18:35:14</td>\n",
       "      <td>@T1_Advocacy</td>\n",
       "      <td>T1Advocacy Ireland</td>\n",
       "      <td>@CorkAirport @DublinAirport @BelfastAirport ht...</td>\n",
       "      <td>7.956131e+17</td>\n",
       "      <td>Twitter Web Client</td>\n",
       "      <td>156.0</td>\n",
       "      <td>590.0</td>\n",
       "      <td>0.0</td>\n",
       "      <td>0.0</td>\n",
       "      <td>No</td>\n",
       "      <td>11/3/2015</td>\n",
       "      <td>NaN</td>\n",
       "      <td>NaN</td>\n",
       "      <td>View</td>\n",
       "      <td>@corkairport, @dublinairport, @belfastairport</td>\n",
       "      <td>ORK, DUB, BFS</td>\n",
       "      <td>Cork Airport, Dublin Airport, Belfast Internat...</td>\n",
       "    </tr>\n",
       "    <tr>\n",
       "      <th>22</th>\n",
       "      <td>11/7/2016 19:12:11</td>\n",
       "      <td>@LoveWeddingsNI</td>\n",
       "      <td>Love Weddings Studio</td>\n",
       "      <td>@belfastairport to @Gatwick_Airport with @Ryan...</td>\n",
       "      <td>7.956224e+17</td>\n",
       "      <td>Twitter for iPhone</td>\n",
       "      <td>754.0</td>\n",
       "      <td>701.0</td>\n",
       "      <td>0.0</td>\n",
       "      <td>0.0</td>\n",
       "      <td>No</td>\n",
       "      <td>11/2/2014</td>\n",
       "      <td>Spires Mall, 45 Howard St. BT1</td>\n",
       "      <td>Visit us to plan your big day. Get inspired fr...</td>\n",
       "      <td>View</td>\n",
       "      <td>@belfastairport, @gatwick_airport</td>\n",
       "      <td>BFS, LGW</td>\n",
       "      <td>Belfast International Airport, Gatwick Airport...</td>\n",
       "    </tr>\n",
       "    <tr>\n",
       "      <th>610</th>\n",
       "      <td>11/16/2016 23:08:02</td>\n",
       "      <td>@Donnchad</td>\n",
       "      <td>Donncha</td>\n",
       "      <td>@CorkAirport @irishexaminer great to hear more...</td>\n",
       "      <td>7.989432e+17</td>\n",
       "      <td>Twitter for iPad</td>\n",
       "      <td>207.0</td>\n",
       "      <td>839.0</td>\n",
       "      <td>0.0</td>\n",
       "      <td>0.0</td>\n",
       "      <td>No</td>\n",
       "      <td>3/15/2009</td>\n",
       "      <td>Bantry/Cork/London</td>\n",
       "      <td>Work with WD40 and/or gaffer tape</td>\n",
       "      <td>View</td>\n",
       "      <td>@corkairport, @heathrowairport</td>\n",
       "      <td>ORK, LHR</td>\n",
       "      <td>Cork Airport, Heathrow Airport</td>\n",
       "    </tr>\n",
       "    <tr>\n",
       "      <th>1046</th>\n",
       "      <td>11/23/2016 0:00:45</td>\n",
       "      <td>@Muldoonwhiskey</td>\n",
       "      <td>Muldoon Liqueur</td>\n",
       "      <td>@CorkAirport @DublinAirport @TheLoopDutyFree K...</td>\n",
       "      <td>8.011308e+17</td>\n",
       "      <td>Twitter for iPhone</td>\n",
       "      <td>2542.0</td>\n",
       "      <td>1996.0</td>\n",
       "      <td>0.0</td>\n",
       "      <td>0.0</td>\n",
       "      <td>No</td>\n",
       "      <td>11/30/2013</td>\n",
       "      <td>NaN</td>\n",
       "      <td>Irish whiskey liqueur,Waterford company,Irish ...</td>\n",
       "      <td>View</td>\n",
       "      <td>@corkairport, @dublinairport</td>\n",
       "      <td>ORK, DUB</td>\n",
       "      <td>Cork Airport, Dublin Airport</td>\n",
       "    </tr>\n",
       "    <tr>\n",
       "      <th>1308</th>\n",
       "      <td>11/27/2016 5:38:47</td>\n",
       "      <td>@Lyndacollins</td>\n",
       "      <td>Lynda</td>\n",
       "      <td>@CorkAirport @DublinAirport Passed over Little...</td>\n",
       "      <td>8.026654e+17</td>\n",
       "      <td>Twitter for iPad</td>\n",
       "      <td>123.0</td>\n",
       "      <td>148.0</td>\n",
       "      <td>0.0</td>\n",
       "      <td>0.0</td>\n",
       "      <td>No</td>\n",
       "      <td>4/14/2009</td>\n",
       "      <td>Ireland</td>\n",
       "      <td>Swimming, Good Food/Wine, Walking the Dog, and...</td>\n",
       "      <td>View</td>\n",
       "      <td>@corkairport, @dublinairport</td>\n",
       "      <td>ORK, DUB</td>\n",
       "      <td>Cork Airport, Dublin Airport</td>\n",
       "    </tr>\n",
       "    <tr>\n",
       "      <th>...</th>\n",
       "      <td>...</td>\n",
       "      <td>...</td>\n",
       "      <td>...</td>\n",
       "      <td>...</td>\n",
       "      <td>...</td>\n",
       "      <td>...</td>\n",
       "      <td>...</td>\n",
       "      <td>...</td>\n",
       "      <td>...</td>\n",
       "      <td>...</td>\n",
       "      <td>...</td>\n",
       "      <td>...</td>\n",
       "      <td>...</td>\n",
       "      <td>...</td>\n",
       "      <td>...</td>\n",
       "      <td>...</td>\n",
       "      <td>...</td>\n",
       "      <td>...</td>\n",
       "    </tr>\n",
       "    <tr>\n",
       "      <th>868309</th>\n",
       "      <td>3/23/2021 21:21:43</td>\n",
       "      <td>@AirbusRed</td>\n",
       "      <td>AirbusRed</td>\n",
       "      <td>@STN_Airport Thank you ??</td>\n",
       "      <td>1.374388e+18</td>\n",
       "      <td>Twitter for iPhone</td>\n",
       "      <td>11378.0</td>\n",
       "      <td>1057.0</td>\n",
       "      <td>0.0</td>\n",
       "      <td>0.0</td>\n",
       "      <td>No</td>\n",
       "      <td>10/3/2009</td>\n",
       "      <td>Manchester, England</td>\n",
       "      <td>?? Airbus A320 Captain. Takes pictures of avia...</td>\n",
       "      <td>View</td>\n",
       "      <td>@stn_airport</td>\n",
       "      <td>STN</td>\n",
       "      <td>London Stansted Airpor</td>\n",
       "    </tr>\n",
       "    <tr>\n",
       "      <th>868344</th>\n",
       "      <td>3/24/2021 13:56:49</td>\n",
       "      <td>@lou26chris</td>\n",
       "      <td>louisa hardy</td>\n",
       "      <td>@STN_Airport Good morning stansted airport ????</td>\n",
       "      <td>1.374639e+18</td>\n",
       "      <td>Twitter for iPhone</td>\n",
       "      <td>95.0</td>\n",
       "      <td>958.0</td>\n",
       "      <td>0.0</td>\n",
       "      <td>0.0</td>\n",
       "      <td>No</td>\n",
       "      <td>2/24/2013</td>\n",
       "      <td>NaN</td>\n",
       "      <td>My loves are family , friends , holidays in th...</td>\n",
       "      <td>View</td>\n",
       "      <td>@stn_airport</td>\n",
       "      <td>STN</td>\n",
       "      <td>London Stansted Airpor</td>\n",
       "    </tr>\n",
       "    <tr>\n",
       "      <th>868346</th>\n",
       "      <td>3/24/2021 15:03:10</td>\n",
       "      <td>@lou26chris</td>\n",
       "      <td>louisa hardy</td>\n",
       "      <td>@STN_Airport OMG ...... if only you knew how m...</td>\n",
       "      <td>1.374656e+18</td>\n",
       "      <td>Twitter for iPhone</td>\n",
       "      <td>95.0</td>\n",
       "      <td>958.0</td>\n",
       "      <td>0.0</td>\n",
       "      <td>1.0</td>\n",
       "      <td>No</td>\n",
       "      <td>2/24/2013</td>\n",
       "      <td>NaN</td>\n",
       "      <td>My loves are family , friends , holidays in th...</td>\n",
       "      <td>View</td>\n",
       "      <td>@stn_airport</td>\n",
       "      <td>STN</td>\n",
       "      <td>London Stansted Airpor</td>\n",
       "    </tr>\n",
       "    <tr>\n",
       "      <th>868347</th>\n",
       "      <td>3/24/2021 15:06:29</td>\n",
       "      <td>@lou26chris</td>\n",
       "      <td>louisa hardy</td>\n",
       "      <td>@STN_Airport @KevinS22551757 Spain is in my bl...</td>\n",
       "      <td>1.374656e+18</td>\n",
       "      <td>Twitter for iPhone</td>\n",
       "      <td>95.0</td>\n",
       "      <td>958.0</td>\n",
       "      <td>0.0</td>\n",
       "      <td>1.0</td>\n",
       "      <td>No</td>\n",
       "      <td>2/24/2013</td>\n",
       "      <td>NaN</td>\n",
       "      <td>My loves are family , friends , holidays in th...</td>\n",
       "      <td>View</td>\n",
       "      <td>@stn_airport</td>\n",
       "      <td>STN</td>\n",
       "      <td>London Stansted Airpor</td>\n",
       "    </tr>\n",
       "    <tr>\n",
       "      <th>868350</th>\n",
       "      <td>3/24/2021 15:59:14</td>\n",
       "      <td>@PeterButterfi12</td>\n",
       "      <td>Peter Butterfield</td>\n",
       "      <td>@STN_Airport Thanks @STN_Airport for your quic...</td>\n",
       "      <td>1.374670e+18</td>\n",
       "      <td>Twitter for iPhone</td>\n",
       "      <td>0.0</td>\n",
       "      <td>31.0</td>\n",
       "      <td>0.0</td>\n",
       "      <td>0.0</td>\n",
       "      <td>No</td>\n",
       "      <td>11/21/2020</td>\n",
       "      <td>NaN</td>\n",
       "      <td>NaN</td>\n",
       "      <td>View</td>\n",
       "      <td>@stn_airport, @stn_airport</td>\n",
       "      <td>STN, STN</td>\n",
       "      <td>London Stansted Airpor, London Stansted Airpor</td>\n",
       "    </tr>\n",
       "  </tbody>\n",
       "</table>\n",
       "<p>290515 rows × 18 columns</p>\n",
       "</div>"
      ],
      "text/plain": [
       "                       Date       Screen Name             Full Name  \\\n",
       "20       11/7/2016 18:35:14      @T1_Advocacy    T1Advocacy Ireland   \n",
       "22       11/7/2016 19:12:11   @LoveWeddingsNI  Love Weddings Studio   \n",
       "610     11/16/2016 23:08:02         @Donnchad               Donncha   \n",
       "1046     11/23/2016 0:00:45   @Muldoonwhiskey       Muldoon Liqueur   \n",
       "1308     11/27/2016 5:38:47     @Lyndacollins                 Lynda   \n",
       "...                     ...               ...                   ...   \n",
       "868309   3/23/2021 21:21:43        @AirbusRed             AirbusRed   \n",
       "868344   3/24/2021 13:56:49       @lou26chris          louisa hardy   \n",
       "868346   3/24/2021 15:03:10       @lou26chris          louisa hardy   \n",
       "868347   3/24/2021 15:06:29       @lou26chris          louisa hardy   \n",
       "868350   3/24/2021 15:59:14  @PeterButterfi12     Peter Butterfield   \n",
       "\n",
       "                                               Tweet Text      Tweet ID  \\\n",
       "20      @CorkAirport @DublinAirport @BelfastAirport ht...  7.956131e+17   \n",
       "22      @belfastairport to @Gatwick_Airport with @Ryan...  7.956224e+17   \n",
       "610     @CorkAirport @irishexaminer great to hear more...  7.989432e+17   \n",
       "1046    @CorkAirport @DublinAirport @TheLoopDutyFree K...  8.011308e+17   \n",
       "1308    @CorkAirport @DublinAirport Passed over Little...  8.026654e+17   \n",
       "...                                                   ...           ...   \n",
       "868309                          @STN_Airport Thank you ??  1.374388e+18   \n",
       "868344    @STN_Airport Good morning stansted airport ????  1.374639e+18   \n",
       "868346  @STN_Airport OMG ...... if only you knew how m...  1.374656e+18   \n",
       "868347  @STN_Airport @KevinS22551757 Spain is in my bl...  1.374656e+18   \n",
       "868350  @STN_Airport Thanks @STN_Airport for your quic...  1.374670e+18   \n",
       "\n",
       "                       App  Followers  Follows  Retweets  Favorites Verfied  \\\n",
       "20      Twitter Web Client      156.0    590.0       0.0        0.0      No   \n",
       "22      Twitter for iPhone      754.0    701.0       0.0        0.0      No   \n",
       "610       Twitter for iPad      207.0    839.0       0.0        0.0      No   \n",
       "1046    Twitter for iPhone     2542.0   1996.0       0.0        0.0      No   \n",
       "1308      Twitter for iPad      123.0    148.0       0.0        0.0      No   \n",
       "...                    ...        ...      ...       ...        ...     ...   \n",
       "868309  Twitter for iPhone    11378.0   1057.0       0.0        0.0      No   \n",
       "868344  Twitter for iPhone       95.0    958.0       0.0        0.0      No   \n",
       "868346  Twitter for iPhone       95.0    958.0       0.0        1.0      No   \n",
       "868347  Twitter for iPhone       95.0    958.0       0.0        1.0      No   \n",
       "868350  Twitter for iPhone        0.0     31.0       0.0        0.0      No   \n",
       "\n",
       "        User Since                        Location  \\\n",
       "20       11/3/2015                             NaN   \n",
       "22       11/2/2014  Spires Mall, 45 Howard St. BT1   \n",
       "610      3/15/2009              Bantry/Cork/London   \n",
       "1046    11/30/2013                             NaN   \n",
       "1308     4/14/2009                         Ireland   \n",
       "...            ...                             ...   \n",
       "868309   10/3/2009             Manchester, England   \n",
       "868344   2/24/2013                             NaN   \n",
       "868346   2/24/2013                             NaN   \n",
       "868347   2/24/2013                             NaN   \n",
       "868350  11/21/2020                             NaN   \n",
       "\n",
       "                                                      Bio Profile Image  \\\n",
       "20                                                    NaN          View   \n",
       "22      Visit us to plan your big day. Get inspired fr...          View   \n",
       "610                     Work with WD40 and/or gaffer tape          View   \n",
       "1046    Irish whiskey liqueur,Waterford company,Irish ...          View   \n",
       "1308    Swimming, Good Food/Wine, Walking the Dog, and...          View   \n",
       "...                                                   ...           ...   \n",
       "868309  ?? Airbus A320 Captain. Takes pictures of avia...          View   \n",
       "868344  My loves are family , friends , holidays in th...          View   \n",
       "868346  My loves are family , friends , holidays in th...          View   \n",
       "868347  My loves are family , friends , holidays in th...          View   \n",
       "868350                                                NaN          View   \n",
       "\n",
       "                                  Airport_Twitter_Tag Airport_IATA_Codes  \\\n",
       "20      @corkairport, @dublinairport, @belfastairport      ORK, DUB, BFS   \n",
       "22                  @belfastairport, @gatwick_airport           BFS, LGW   \n",
       "610                    @corkairport, @heathrowairport           ORK, LHR   \n",
       "1046                     @corkairport, @dublinairport           ORK, DUB   \n",
       "1308                     @corkairport, @dublinairport           ORK, DUB   \n",
       "...                                               ...                ...   \n",
       "868309                                   @stn_airport                STN   \n",
       "868344                                   @stn_airport                STN   \n",
       "868346                                   @stn_airport                STN   \n",
       "868347                                   @stn_airport                STN   \n",
       "868350                     @stn_airport, @stn_airport           STN, STN   \n",
       "\n",
       "                                            Airport_Names  \n",
       "20      Cork Airport, Dublin Airport, Belfast Internat...  \n",
       "22      Belfast International Airport, Gatwick Airport...  \n",
       "610                        Cork Airport, Heathrow Airport  \n",
       "1046                         Cork Airport, Dublin Airport  \n",
       "1308                         Cork Airport, Dublin Airport  \n",
       "...                                                   ...  \n",
       "868309                             London Stansted Airpor  \n",
       "868344                             London Stansted Airpor  \n",
       "868346                             London Stansted Airpor  \n",
       "868347                             London Stansted Airpor  \n",
       "868350     London Stansted Airpor, London Stansted Airpor  \n",
       "\n",
       "[290515 rows x 18 columns]"
      ]
     },
     "execution_count": 14,
     "metadata": {},
     "output_type": "execute_result"
    }
   ],
   "source": [
    "# new dataframe\n",
    "\n",
    "df2"
   ]
  },
  {
   "cell_type": "code",
   "execution_count": 15,
   "id": "8ece2528",
   "metadata": {
    "scrolled": true
   },
   "outputs": [
    {
     "data": {
      "text/plain": [
       "@heathrowairport                                                            0.284543\n",
       "@manairport                                                                 0.230532\n",
       "@dublinairport                                                              0.178029\n",
       "@gatwick_airport                                                            0.148003\n",
       "@stn_airport                                                                0.126623\n",
       "@heathrowairport, @heathrowairport                                          0.005415\n",
       "@dublinairport, @dublinairport                                              0.004761\n",
       "@manairport, @manairport                                                    0.004664\n",
       "@gatwick_airport, @gatwick_airport                                          0.001897\n",
       "@stn_airport, @stn_airport                                                  0.001635\n",
       "@heathrowairport, @gatwick_airport                                          0.000692\n",
       "@gatwick_airport, @heathrowairport                                          0.000458\n",
       "@dublinairport, @lpl_airport                                                0.000437\n",
       "@dublinairport, @shannonairport                                             0.000317\n",
       "@dublinairport, @corkairport                                                0.000293\n",
       "@heathrowairport, @dublinairport                                            0.000227\n",
       "@dublinairport, @heathrowairport                                            0.000210\n",
       "@heathrowairport, @manairport                                               0.000207\n",
       "@londoncityair, @edi_airport, @manairport, @dublinairport, @bhx_official    0.000186\n",
       "@corkairport, @dublinairport                                                0.000169\n",
       "Name: Airport_Twitter_Tag, dtype: float64"
      ]
     },
     "execution_count": 15,
     "metadata": {},
     "output_type": "execute_result"
    }
   ],
   "source": [
    "# new data, airports\n",
    "\n",
    "df2.Airport_Twitter_Tag.value_counts(normalize=True).head(20)"
   ]
  },
  {
   "cell_type": "code",
   "execution_count": 16,
   "id": "cdada9cf",
   "metadata": {},
   "outputs": [],
   "source": [
    "# https://www.listendata.com/2019/07/how-to-filter-pandas-dataframe.html\n",
    "# Filtering 5 airports and fields with duplicate names for one airport\n",
    "\n",
    "newdf = df2[df2.Airport_Twitter_Tag.isin([\"@heathrowairport\", \"@manairport\", \"@dublinairport\", \"@gatwick_airport\", \"@stn_airport\", '@heathrowairport, @heathrowairport', '@dublinairport, @dublinairport', '@manairport, @manairport', '@gatwick_airport, @gatwick_airport', '@stn_airport, @stn_airport'])]"
   ]
  },
  {
   "cell_type": "code",
   "execution_count": 17,
   "id": "85ddcadf",
   "metadata": {
    "scrolled": true
   },
   "outputs": [
    {
     "data": {
      "text/plain": [
       "(286477, 18)"
      ]
     },
     "execution_count": 17,
     "metadata": {},
     "output_type": "execute_result"
    }
   ],
   "source": [
    "# 286 477 rows, 18 features\n",
    "\n",
    "newdf.shape"
   ]
  },
  {
   "cell_type": "code",
   "execution_count": 18,
   "id": "e5feada6",
   "metadata": {
    "scrolled": false
   },
   "outputs": [
    {
     "data": {
      "text/plain": [
       "@heathrowairport                      0.288554\n",
       "@manairport                           0.233781\n",
       "@dublinairport                        0.180538\n",
       "@gatwick_airport                      0.150089\n",
       "@stn_airport                          0.128408\n",
       "@heathrowairport, @heathrowairport    0.005491\n",
       "@dublinairport, @dublinairport        0.004828\n",
       "@manairport, @manairport              0.004730\n",
       "@gatwick_airport, @gatwick_airport    0.001923\n",
       "@stn_airport, @stn_airport            0.001658\n",
       "Name: Airport_Twitter_Tag, dtype: float64"
      ]
     },
     "execution_count": 18,
     "metadata": {},
     "output_type": "execute_result"
    }
   ],
   "source": [
    "newdf.Airport_Twitter_Tag.value_counts(normalize=True).head(20)"
   ]
  },
  {
   "cell_type": "code",
   "execution_count": 19,
   "id": "1dd8ea98",
   "metadata": {},
   "outputs": [
    {
     "data": {
      "text/plain": [
       "@heathrowairport                      0.294045\n",
       "@manairport                           0.233781\n",
       "@dublinairport                        0.180538\n",
       "@gatwick_airport                      0.150089\n",
       "@stn_airport                          0.128408\n",
       "@dublinairport, @dublinairport        0.004828\n",
       "@manairport, @manairport              0.004730\n",
       "@gatwick_airport, @gatwick_airport    0.001923\n",
       "@stn_airport, @stn_airport            0.001658\n",
       "Name: Airport_Twitter_Tag, dtype: float64"
      ]
     },
     "execution_count": 19,
     "metadata": {},
     "output_type": "execute_result"
    }
   ],
   "source": [
    "f = newdf.assign(Airport_Twitter_Tag=newdf.Airport_Twitter_Tag.str.replace('@heathrowairport, @heathrowairport', '@heathrowairport'))\n",
    "f.Airport_Twitter_Tag.value_counts(normalize=True).head(20)"
   ]
  },
  {
   "cell_type": "code",
   "execution_count": 21,
   "id": "dc487778",
   "metadata": {},
   "outputs": [
    {
     "data": {
      "text/plain": [
       "@heathrowairport                      0.294045\n",
       "@manairport                           0.238511\n",
       "@dublinairport                        0.180538\n",
       "@gatwick_airport                      0.150089\n",
       "@stn_airport                          0.128408\n",
       "@dublinairport, @dublinairport        0.004828\n",
       "@gatwick_airport, @gatwick_airport    0.001923\n",
       "@stn_airport, @stn_airport            0.001658\n",
       "Name: Airport_Twitter_Tag, dtype: float64"
      ]
     },
     "execution_count": 21,
     "metadata": {},
     "output_type": "execute_result"
    }
   ],
   "source": [
    "f1 = f.assign(Airport_Twitter_Tag=f.Airport_Twitter_Tag.str.replace('@manairport, @manairport', '@manairport'))\n",
    "f1.Airport_Twitter_Tag.value_counts(normalize=True).head(20)"
   ]
  },
  {
   "cell_type": "code",
   "execution_count": 22,
   "id": "da9935ab",
   "metadata": {},
   "outputs": [
    {
     "data": {
      "text/plain": [
       "@heathrowairport                      0.294045\n",
       "@manairport                           0.238511\n",
       "@dublinairport                        0.185366\n",
       "@gatwick_airport                      0.150089\n",
       "@stn_airport                          0.128408\n",
       "@gatwick_airport, @gatwick_airport    0.001923\n",
       "@stn_airport, @stn_airport            0.001658\n",
       "Name: Airport_Twitter_Tag, dtype: float64"
      ]
     },
     "execution_count": 22,
     "metadata": {},
     "output_type": "execute_result"
    }
   ],
   "source": [
    "f2 = f1.assign(Airport_Twitter_Tag=f1.Airport_Twitter_Tag.str.replace('@dublinairport, @dublinairport', '@dublinairport'))\n",
    "f2.Airport_Twitter_Tag.value_counts(normalize=True).head(20)"
   ]
  },
  {
   "cell_type": "code",
   "execution_count": 23,
   "id": "d59cb1da",
   "metadata": {},
   "outputs": [
    {
     "data": {
      "text/plain": [
       "@heathrowairport              0.294045\n",
       "@manairport                   0.238511\n",
       "@dublinairport                0.185366\n",
       "@gatwick_airport              0.152012\n",
       "@stn_airport                  0.128408\n",
       "@stn_airport, @stn_airport    0.001658\n",
       "Name: Airport_Twitter_Tag, dtype: float64"
      ]
     },
     "execution_count": 23,
     "metadata": {},
     "output_type": "execute_result"
    }
   ],
   "source": [
    "f3 = f2.assign(Airport_Twitter_Tag=f2.Airport_Twitter_Tag.str.replace('@gatwick_airport, @gatwick_airport', '@gatwick_airport'))\n",
    "f3.Airport_Twitter_Tag.value_counts(normalize=True).head(20)"
   ]
  },
  {
   "cell_type": "code",
   "execution_count": 24,
   "id": "edfa508f",
   "metadata": {
    "scrolled": true
   },
   "outputs": [
    {
     "data": {
      "text/plain": [
       "@heathrowairport    0.294045\n",
       "@manairport         0.238511\n",
       "@dublinairport      0.185366\n",
       "@gatwick_airport    0.152012\n",
       "@stn_airport        0.130066\n",
       "Name: Airport_Twitter_Tag, dtype: float64"
      ]
     },
     "execution_count": 24,
     "metadata": {},
     "output_type": "execute_result"
    }
   ],
   "source": [
    "f4 = f3.assign(Airport_Twitter_Tag=f3.Airport_Twitter_Tag.str.replace('@stn_airport, @stn_airport', '@stn_airport'))\n",
    "f4.Airport_Twitter_Tag.value_counts(normalize=True).head(20)"
   ]
  },
  {
   "cell_type": "code",
   "execution_count": 25,
   "id": "87d888cf",
   "metadata": {},
   "outputs": [
    {
     "data": {
      "text/plain": [
       "(286477, 18)"
      ]
     },
     "execution_count": 25,
     "metadata": {},
     "output_type": "execute_result"
    }
   ],
   "source": [
    "# 286 477 rows, 18 features\n",
    "\n",
    "f.shape"
   ]
  },
  {
   "cell_type": "code",
   "execution_count": 26,
   "id": "20f38a72",
   "metadata": {},
   "outputs": [],
   "source": [
    "f.to_csv('newdata.csv')"
   ]
  },
  {
   "cell_type": "code",
   "execution_count": null,
   "id": "1e7b6276",
   "metadata": {},
   "outputs": [],
   "source": []
  }
 ],
 "metadata": {
  "kernelspec": {
   "display_name": "Python 3",
   "language": "python",
   "name": "python3"
  },
  "language_info": {
   "codemirror_mode": {
    "name": "ipython",
    "version": 3
   },
   "file_extension": ".py",
   "mimetype": "text/x-python",
   "name": "python",
   "nbconvert_exporter": "python",
   "pygments_lexer": "ipython3",
   "version": "3.8.10"
  }
 },
 "nbformat": 4,
 "nbformat_minor": 5
}
